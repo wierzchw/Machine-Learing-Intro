{
 "cells": [
  {
   "cell_type": "markdown",
   "id": "ba48b9ea",
   "metadata": {},
   "source": [
    "# Hasztagiem na początku kodu jest opisane który numer kolumny zmieniam żeby jakoś to ten"
   ]
  },
  {
   "cell_type": "code",
   "execution_count": null,
   "id": "1809aeb1",
   "metadata": {},
   "outputs": [],
   "source": [
    "import pandas as pd\n",
    "from sklearn.preprocessing import MultiLabelBinarizer"
   ]
  },
  {
   "cell_type": "code",
   "execution_count": 3,
   "id": "794db51e",
   "metadata": {},
   "outputs": [],
   "source": [
    "df = pd.read_csv('train.csv')"
   ]
  },
  {
   "cell_type": "markdown",
   "id": "1f6edcd9",
   "metadata": {},
   "source": [
    "### Tutaj sobie zdefiniowałem taką funkcję żeby kilka razy tego nie pisać, to usuwa po prostu \"_\""
   ]
  },
  {
   "cell_type": "code",
   "execution_count": 4,
   "id": "9aa99b2e",
   "metadata": {},
   "outputs": [],
   "source": [
    "def Object_to_Numeric(df, s):\n",
    "    return pd.to_numeric(df[s].str.replace('_', ''))"
   ]
  },
  {
   "cell_type": "markdown",
   "id": "da29cec4",
   "metadata": {},
   "source": [
    "### Tutaj kilka łatwych zamian"
   ]
  },
  {
   "cell_type": "code",
   "execution_count": null,
   "id": "06288314",
   "metadata": {},
   "outputs": [],
   "source": [
    "#19, 24, 16, 26\n",
    "df['Outstanding_Debt'] = Object_to_Numeric(df, 'Outstanding_Debt')\n",
    "df['Amount_invested_monthly'] = Object_to_Numeric(df, 'Amount_invested_monthly')\n",
    "df['Changed_Credit_Limit'] = Object_to_Numeric(df, 'Changed_Credit_Limit')\n",
    "df['Monthly_Balance'] = df['Monthly_Balance'].str.replace('_', '')\n",
    "    df = df.astype({'Monthly_Balance': 'float'}) # Monthly_Balance jakoś nie chciał współpracować,\n",
    "                                                 # ale jest git"
   ]
  },
  {
   "cell_type": "markdown",
   "id": "9f9e8027",
   "metadata": {},
   "source": [
    "### Tu jakieś szalone rzeczy, ale tylko dla kolumny 'Credit_History_Age'"
   ]
  },
  {
   "cell_type": "code",
   "execution_count": 5,
   "id": "a0e89f2f",
   "metadata": {},
   "outputs": [
    {
     "name": "stderr",
     "output_type": "stream",
     "text": [
      "C:\\Users\\wojte\\AppData\\Local\\Temp\\ipykernel_22064\\1080241939.py:3: FutureWarning: The default value of regex will change from True to False in a future version.\n",
      "  return df['Credit_History_Age'].str.replace('\\D+', '* 12 +')\n",
      "c:\\users\\wojte\\appdata\\local\\programs\\python\\python38\\lib\\site-packages\\pandas\\core\\indexing.py:1637: SettingWithCopyWarning: \n",
      "A value is trying to be set on a copy of a slice from a DataFrame\n",
      "\n",
      "See the caveats in the documentation: https://pandas.pydata.org/pandas-docs/stable/user_guide/indexing.html#returning-a-view-versus-a-copy\n",
      "  self._setitem_single_block(indexer, value, name)\n"
     ]
    }
   ],
   "source": [
    "#21\n",
    "def History_Age_2_months(df):\n",
    "    df['Credit_History_Age'] = df['Credit_History_Age'].str.replace(' Months', '')\n",
    "    return df['Credit_History_Age'].str.replace('\\D+', '* 12 +')\n",
    "df['Credit_History_Age'] = History_Age_2_months(df)\n",
    "df['Credit_History_Age'].loc[df.Credit_History_Age.isnull()] = df['Credit_History_Age'].loc[df.Credit_History_Age.isnull()].apply(\n",
    "        lambda x: '-1') #Brak danych jest teraz -1\n",
    "df['Credit_History_Age'] = df['Credit_History_Age'].apply(eval)"
   ]
  },
  {
   "cell_type": "markdown",
   "id": "c54bc64f",
   "metadata": {},
   "source": [
    "## One-Hot dla Paymentów"
   ]
  },
  {
   "cell_type": "code",
   "execution_count": null,
   "id": "07bfbc30",
   "metadata": {},
   "outputs": [],
   "source": [
    "#22, 25\n",
    "one_hot = pd.get_dummies(df['Payment_of_Min_Amount'])\n",
    "    df = df.drop('Payment_of_Min_Amount', axis=1)\n",
    "    df = df.join(one_hot)\n",
    "\n",
    "    one_hot = pd.get_dummies(df['Payment_Behaviour'])\n",
    "    df = df.drop('Payment_Behaviour', axis=1)\n",
    "    df = df.join(one_hot)"
   ]
  },
  {
   "cell_type": "markdown",
   "id": "55f118d1",
   "metadata": {},
   "source": [
    "#### Ostre dymy z typami kredytów"
   ]
  },
  {
   "cell_type": "code",
   "execution_count": null,
   "id": "1c8fc2b5",
   "metadata": {},
   "outputs": [],
   "source": [
    "#13\n",
    "df['Type_of_Loan'] = df['Type_of_Loan'].str.replace('and ', '')\n",
    "    df.Type_of_Loan = df.Type_of_Loan.str.split(', ')\n",
    "    df['Type_of_Loan'].loc[df.Type_of_Loan.isnull()] = df['Type_of_Loan'].loc[df.Type_of_Loan.isnull()].apply(lambda x: [])\n",
    "    mlb = MultiLabelBinarizer(sparse_output=True)\n",
    "    df = df.join(\n",
    "        pd.DataFrame.sparse.from_spmatrix(\n",
    "            mlb.fit_transform(df.pop('Type_of_Loan')),\n",
    "            index=df.index,\n",
    "            columns=mlb.classes_))\n",
    "    df.rename(columns={'!@9#%8': 'No_Payment_Data',\n",
    "                       'No': 'Min_Amount_Not_Paid',\n",
    "                       'Yes': 'Min_Amount_Paid',\n",
    "                       }, inplace=True)"
   ]
  }
 ],
 "metadata": {
  "kernelspec": {
   "display_name": "Python 3 (ipykernel)",
   "language": "python",
   "name": "python3"
  },
  "language_info": {
   "codemirror_mode": {
    "name": "ipython",
    "version": 3
   },
   "file_extension": ".py",
   "mimetype": "text/x-python",
   "name": "python",
   "nbconvert_exporter": "python",
   "pygments_lexer": "ipython3",
   "version": "3.9.13"
  }
 },
 "nbformat": 4,
 "nbformat_minor": 5
}
