{
 "cells": [
  {
   "cell_type": "markdown",
   "id": "55f118d1",
   "metadata": {},
   "source": [
    "### Zamiana moich kolumn"
   ]
  },
  {
   "cell_type": "code",
   "execution_count": 119,
   "id": "3c243580",
   "metadata": {},
   "outputs": [
    {
     "name": "stderr",
     "output_type": "stream",
     "text": [
      "C:\\Users\\wojte\\AppData\\Local\\Temp\\ipykernel_21636\\3248956969.py:7: FutureWarning: The default value of regex will change from True to False in a future version.\n",
      "  return df['Credit_History_Age'].str.replace('\\D+', '* 12 +')\n",
      "c:\\users\\wojte\\appdata\\local\\programs\\python\\python38\\lib\\site-packages\\pandas\\core\\indexing.py:1637: SettingWithCopyWarning: \n",
      "A value is trying to be set on a copy of a slice from a DataFrame\n",
      "\n",
      "See the caveats in the documentation: https://pandas.pydata.org/pandas-docs/stable/user_guide/indexing.html#returning-a-view-versus-a-copy\n",
      "  self._setitem_single_block(indexer, value, name)\n",
      "c:\\users\\wojte\\appdata\\local\\programs\\python\\python38\\lib\\site-packages\\pandas\\core\\indexing.py:1637: SettingWithCopyWarning: \n",
      "A value is trying to be set on a copy of a slice from a DataFrame\n",
      "\n",
      "See the caveats in the documentation: https://pandas.pydata.org/pandas-docs/stable/user_guide/indexing.html#returning-a-view-versus-a-copy\n",
      "  self._setitem_single_block(indexer, value, name)\n"
     ]
    }
   ],
   "source": [
    "%%capture --no-stderr\n",
    "\n",
    "import pandas as pd\n",
    "import numpy as np\n",
    "from sklearn.preprocessing import MultiLabelBinarizer\n",
    "\n",
    "def History_Age_2_months(df):\n",
    "    df['Credit_History_Age'] = df['Credit_History_Age'].str.replace(' Months', '')\n",
    "    return df['Credit_History_Age'].str.replace('\\D+', '* 12 +')\n",
    "def Object_to_Numeric(df, s):\n",
    "    return pd.to_numeric(df[s].str.replace('_', ''))\n",
    "\n",
    "df = pd.read_csv('train.csv', low_memory=False)\n",
    "\n",
    "df['Outstanding_Debt'] = Object_to_Numeric(df, 'Outstanding_Debt')\n",
    "df['Amount_invested_monthly'] = Object_to_Numeric(df, 'Amount_invested_monthly')\n",
    "df['Changed_Credit_Limit'] = Object_to_Numeric(df, 'Changed_Credit_Limit')\n",
    "df['Monthly_Balance'] = df['Monthly_Balance'].str.replace('_', '')\n",
    "df = df.astype({'Monthly_Balance': 'float'})\n",
    "\n",
    "df['Credit_History_Age'] = History_Age_2_months(df)\n",
    "df['Credit_History_Age'].loc[df.Credit_History_Age.isnull()] = df['Credit_History_Age'].loc[df.Credit_History_Age.isnull()].apply(\n",
    "        lambda x: '-1') #Brak danych jest teraz -1\n",
    "df['Credit_History_Age'] = df['Credit_History_Age'].apply(eval)\n",
    "\n",
    "le = LabelEncoder()\n",
    "df['Payment_of_Min_Amount'] = le.fit_transform(df['Payment_of_Min_Amount'])\n",
    "df['Payment_Behaviour'] = np.where(df['Payment_Behaviour']== '!@9#%8', np.nan, df['Payment_Behaviour'])\n",
    "df['spent'] = np.where('Low' == df['Payment_Behaviour'].str[0:3], 0,1)\n",
    "df['payment_value'] = df['Payment_Behaviour'].str.extract(r'^(?:[^_]+_){2}([^_ ]+)')\n",
    "df['payment_value'] = le.fit_transform(df['payment_value'])\n",
    "df['payment_value'] = np.where(df['payment_value'] == 3, np.nan, df['payment_value'])\n",
    "df = df.drop('Payment_Behaviour', axis=1)\n",
    "\n",
    "df['Type_of_Loan'] = df['Type_of_Loan'].str.replace('and ', '')\n",
    "df.Type_of_Loan = df.Type_of_Loan.str.split(', ')\n",
    "df['Type_of_Loan'].loc[df.Type_of_Loan.isnull()] = df['Type_of_Loan'].loc[df.Type_of_Loan.isnull()].apply(lambda x: [])\n",
    "mlb = MultiLabelBinarizer(sparse_output=True)\n",
    "df = df.join(\n",
    "    pd.DataFrame.sparse.from_spmatrix(\n",
    "        mlb.fit_transform(df.pop('Type_of_Loan')),\n",
    "        index=df.index,\n",
    "        columns=mlb.classes_))"
   ]
  },
  {
   "cell_type": "markdown",
   "id": "421c178c",
   "metadata": {},
   "source": [
    "### Zamieniamy gówno-wartości na NaN"
   ]
  },
  {
   "cell_type": "code",
   "execution_count": 120,
   "id": "6892022e",
   "metadata": {
    "scrolled": true
   },
   "outputs": [],
   "source": [
    "df.Monthly_Balance = np.where(df.Monthly_Balance == min(df.Monthly_Balance), np.nan, df.Monthly_Balance)\n",
    "df.Credit_History_Age = np.where(df.Credit_History_Age == -1, np.nan, df.Credit_History_Age)\n",
    "df.Amount_invested_monthly = np.where(df.Amount_invested_monthly == 10000, np.nan, df.Amount_invested_monthly)\n",
    "df.Num_Bank_Accounts = np.where(df.Num_Bank_Accounts == -1, np.nan, df.Num_Bank_Accounts)"
   ]
  },
  {
   "cell_type": "code",
   "execution_count": null,
   "id": "23dd0339",
   "metadata": {},
   "outputs": [],
   "source": [
    "#Wszystkie moje NaN można zastąpić medianą/min-max, poza 'payment_value', bo to nulle w encodingu (0/1/2)"
   ]
  }
 ],
 "metadata": {
  "kernelspec": {
   "display_name": "Python 3 (ipykernel)",
   "language": "python",
   "name": "python3"
  },
  "language_info": {
   "codemirror_mode": {
    "name": "ipython",
    "version": 3
   },
   "file_extension": ".py",
   "mimetype": "text/x-python",
   "name": "python",
   "nbconvert_exporter": "python",
   "pygments_lexer": "ipython3",
   "version": "3.9.13"
  }
 },
 "nbformat": 4,
 "nbformat_minor": 5
}
