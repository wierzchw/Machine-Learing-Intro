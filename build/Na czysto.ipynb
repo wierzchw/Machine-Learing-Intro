{
 "cells": [
  {
   "cell_type": "markdown",
   "id": "690ba641-939b-4352-b6e3-ef93dc427d4f",
   "metadata": {},
   "source": [
    "# tytuł heheh"
   ]
  },
  {
   "cell_type": "markdown",
   "id": "1f4c0770-0ef0-4c29-a9e3-ce4ea03d2a6a",
   "metadata": {},
   "source": [
    "## importy"
   ]
  },
  {
   "cell_type": "code",
   "execution_count": 1,
   "id": "f544b3bd-5c9b-442b-b5dd-99b0cc3fcaa9",
   "metadata": {
    "tags": []
   },
   "outputs": [],
   "source": [
    "%%capture --no-stderr\n",
    "\n",
    "import pandas as pd\n",
    "from sklearn import preprocessing\n",
    "from sklearn.preprocessing import MultiLabelBinarizer\n",
    "from datetime import datetime\n",
    "from pandas.api.types import is_numeric_dtype\n",
    "import numpy as np\n",
    "import matplotlib.pyplot as plt\n",
    "import seaborn as sns"
   ]
  },
  {
   "cell_type": "code",
   "execution_count": 2,
   "id": "c4324573-3aa2-4d36-a897-a5adb5c3b12d",
   "metadata": {},
   "outputs": [],
   "source": [
    "df = pd.read_csv('train.csv', low_memory=False)"
   ]
  },
  {
   "cell_type": "markdown",
   "id": "47246b9b-0627-4725-89a0-dec203511f3d",
   "metadata": {},
   "source": [
    "## funkcje"
   ]
  },
  {
   "cell_type": "code",
   "execution_count": 3,
   "id": "488acd15-8df1-42fb-851c-d0ff6882789c",
   "metadata": {},
   "outputs": [],
   "source": [
    "def History_Age_2_months(df):\n",
    "    df['Credit_History_Age'] = df['Credit_History_Age'].str.replace(' Months', '')\n",
    "    return df['Credit_History_Age'].str.replace('\\D+', '* 12 +')\n",
    "def Object_to_Numeric(df, s):\n",
    "    return pd.to_numeric(df[s].str.replace('_', ''))"
   ]
  },
  {
   "cell_type": "markdown",
   "id": "5cf6a87f-6ecb-471c-96e9-0c9bdf048dc8",
   "metadata": {},
   "source": [
    "## basic zaznajomienie"
   ]
  },
  {
   "cell_type": "code",
   "execution_count": 4,
   "id": "d0c406a9-a9a8-4429-9a43-369650b25c7b",
   "metadata": {},
   "outputs": [
    {
     "data": {
      "text/plain": [
       "Index(['ID', 'Customer_ID', 'Month', 'Name', 'Age', 'SSN', 'Occupation',\n",
       "       'Annual_Income', 'Monthly_Inhand_Salary', 'Num_Bank_Accounts',\n",
       "       'Num_Credit_Card', 'Interest_Rate', 'Num_of_Loan', 'Type_of_Loan',\n",
       "       'Delay_from_due_date', 'Num_of_Delayed_Payment', 'Changed_Credit_Limit',\n",
       "       'Num_Credit_Inquiries', 'Credit_Mix', 'Outstanding_Debt',\n",
       "       'Credit_Utilization_Ratio', 'Credit_History_Age',\n",
       "       'Payment_of_Min_Amount', 'Total_EMI_per_month',\n",
       "       'Amount_invested_monthly', 'Payment_Behaviour', 'Monthly_Balance',\n",
       "       'Credit_Score'],\n",
       "      dtype='object')"
      ]
     },
     "execution_count": 4,
     "metadata": {},
     "output_type": "execute_result"
    }
   ],
   "source": [
    "df.columns"
   ]
  },
  {
   "cell_type": "code",
   "execution_count": 5,
   "id": "354b725c-45db-4c12-ad8f-132302e6820b",
   "metadata": {},
   "outputs": [
    {
     "data": {
      "text/html": [
       "<div>\n",
       "<style scoped>\n",
       "    .dataframe tbody tr th:only-of-type {\n",
       "        vertical-align: middle;\n",
       "    }\n",
       "\n",
       "    .dataframe tbody tr th {\n",
       "        vertical-align: top;\n",
       "    }\n",
       "\n",
       "    .dataframe thead th {\n",
       "        text-align: right;\n",
       "    }\n",
       "</style>\n",
       "<table border=\"1\" class=\"dataframe\">\n",
       "  <thead>\n",
       "    <tr style=\"text-align: right;\">\n",
       "      <th></th>\n",
       "      <th>ID</th>\n",
       "      <th>Customer_ID</th>\n",
       "      <th>Month</th>\n",
       "      <th>Name</th>\n",
       "      <th>Age</th>\n",
       "      <th>SSN</th>\n",
       "      <th>Occupation</th>\n",
       "      <th>Annual_Income</th>\n",
       "      <th>Monthly_Inhand_Salary</th>\n",
       "      <th>Num_Bank_Accounts</th>\n",
       "      <th>...</th>\n",
       "      <th>Credit_Mix</th>\n",
       "      <th>Outstanding_Debt</th>\n",
       "      <th>Credit_Utilization_Ratio</th>\n",
       "      <th>Credit_History_Age</th>\n",
       "      <th>Payment_of_Min_Amount</th>\n",
       "      <th>Total_EMI_per_month</th>\n",
       "      <th>Amount_invested_monthly</th>\n",
       "      <th>Payment_Behaviour</th>\n",
       "      <th>Monthly_Balance</th>\n",
       "      <th>Credit_Score</th>\n",
       "    </tr>\n",
       "  </thead>\n",
       "  <tbody>\n",
       "    <tr>\n",
       "      <th>0</th>\n",
       "      <td>0x1602</td>\n",
       "      <td>CUS_0xd40</td>\n",
       "      <td>January</td>\n",
       "      <td>Aaron Maashoh</td>\n",
       "      <td>23</td>\n",
       "      <td>821-00-0265</td>\n",
       "      <td>Scientist</td>\n",
       "      <td>19114.12</td>\n",
       "      <td>1824.843333</td>\n",
       "      <td>3</td>\n",
       "      <td>...</td>\n",
       "      <td>_</td>\n",
       "      <td>809.98</td>\n",
       "      <td>26.822620</td>\n",
       "      <td>22 Years and 1 Months</td>\n",
       "      <td>No</td>\n",
       "      <td>49.574949</td>\n",
       "      <td>80.41529543900253</td>\n",
       "      <td>High_spent_Small_value_payments</td>\n",
       "      <td>312.49408867943663</td>\n",
       "      <td>Good</td>\n",
       "    </tr>\n",
       "    <tr>\n",
       "      <th>1</th>\n",
       "      <td>0x1603</td>\n",
       "      <td>CUS_0xd40</td>\n",
       "      <td>February</td>\n",
       "      <td>Aaron Maashoh</td>\n",
       "      <td>23</td>\n",
       "      <td>821-00-0265</td>\n",
       "      <td>Scientist</td>\n",
       "      <td>19114.12</td>\n",
       "      <td>NaN</td>\n",
       "      <td>3</td>\n",
       "      <td>...</td>\n",
       "      <td>Good</td>\n",
       "      <td>809.98</td>\n",
       "      <td>31.944960</td>\n",
       "      <td>NaN</td>\n",
       "      <td>No</td>\n",
       "      <td>49.574949</td>\n",
       "      <td>118.28022162236736</td>\n",
       "      <td>Low_spent_Large_value_payments</td>\n",
       "      <td>284.62916249607184</td>\n",
       "      <td>Good</td>\n",
       "    </tr>\n",
       "    <tr>\n",
       "      <th>2</th>\n",
       "      <td>0x1604</td>\n",
       "      <td>CUS_0xd40</td>\n",
       "      <td>March</td>\n",
       "      <td>Aaron Maashoh</td>\n",
       "      <td>-500</td>\n",
       "      <td>821-00-0265</td>\n",
       "      <td>Scientist</td>\n",
       "      <td>19114.12</td>\n",
       "      <td>NaN</td>\n",
       "      <td>3</td>\n",
       "      <td>...</td>\n",
       "      <td>Good</td>\n",
       "      <td>809.98</td>\n",
       "      <td>28.609352</td>\n",
       "      <td>22 Years and 3 Months</td>\n",
       "      <td>No</td>\n",
       "      <td>49.574949</td>\n",
       "      <td>81.699521264648</td>\n",
       "      <td>Low_spent_Medium_value_payments</td>\n",
       "      <td>331.2098628537912</td>\n",
       "      <td>Good</td>\n",
       "    </tr>\n",
       "    <tr>\n",
       "      <th>3</th>\n",
       "      <td>0x1605</td>\n",
       "      <td>CUS_0xd40</td>\n",
       "      <td>April</td>\n",
       "      <td>Aaron Maashoh</td>\n",
       "      <td>23</td>\n",
       "      <td>821-00-0265</td>\n",
       "      <td>Scientist</td>\n",
       "      <td>19114.12</td>\n",
       "      <td>NaN</td>\n",
       "      <td>3</td>\n",
       "      <td>...</td>\n",
       "      <td>Good</td>\n",
       "      <td>809.98</td>\n",
       "      <td>31.377862</td>\n",
       "      <td>22 Years and 4 Months</td>\n",
       "      <td>No</td>\n",
       "      <td>49.574949</td>\n",
       "      <td>199.4580743910713</td>\n",
       "      <td>Low_spent_Small_value_payments</td>\n",
       "      <td>223.45130972736786</td>\n",
       "      <td>Good</td>\n",
       "    </tr>\n",
       "    <tr>\n",
       "      <th>4</th>\n",
       "      <td>0x1606</td>\n",
       "      <td>CUS_0xd40</td>\n",
       "      <td>May</td>\n",
       "      <td>Aaron Maashoh</td>\n",
       "      <td>23</td>\n",
       "      <td>821-00-0265</td>\n",
       "      <td>Scientist</td>\n",
       "      <td>19114.12</td>\n",
       "      <td>1824.843333</td>\n",
       "      <td>3</td>\n",
       "      <td>...</td>\n",
       "      <td>Good</td>\n",
       "      <td>809.98</td>\n",
       "      <td>24.797347</td>\n",
       "      <td>22 Years and 5 Months</td>\n",
       "      <td>No</td>\n",
       "      <td>49.574949</td>\n",
       "      <td>41.420153086217326</td>\n",
       "      <td>High_spent_Medium_value_payments</td>\n",
       "      <td>341.48923103222177</td>\n",
       "      <td>Good</td>\n",
       "    </tr>\n",
       "    <tr>\n",
       "      <th>5</th>\n",
       "      <td>0x1607</td>\n",
       "      <td>CUS_0xd40</td>\n",
       "      <td>June</td>\n",
       "      <td>Aaron Maashoh</td>\n",
       "      <td>23</td>\n",
       "      <td>821-00-0265</td>\n",
       "      <td>Scientist</td>\n",
       "      <td>19114.12</td>\n",
       "      <td>NaN</td>\n",
       "      <td>3</td>\n",
       "      <td>...</td>\n",
       "      <td>Good</td>\n",
       "      <td>809.98</td>\n",
       "      <td>27.262259</td>\n",
       "      <td>22 Years and 6 Months</td>\n",
       "      <td>No</td>\n",
       "      <td>49.574949</td>\n",
       "      <td>62.430172331195294</td>\n",
       "      <td>!@9#%8</td>\n",
       "      <td>340.4792117872438</td>\n",
       "      <td>Good</td>\n",
       "    </tr>\n",
       "    <tr>\n",
       "      <th>6</th>\n",
       "      <td>0x1608</td>\n",
       "      <td>CUS_0xd40</td>\n",
       "      <td>July</td>\n",
       "      <td>Aaron Maashoh</td>\n",
       "      <td>23</td>\n",
       "      <td>821-00-0265</td>\n",
       "      <td>Scientist</td>\n",
       "      <td>19114.12</td>\n",
       "      <td>1824.843333</td>\n",
       "      <td>3</td>\n",
       "      <td>...</td>\n",
       "      <td>Good</td>\n",
       "      <td>809.98</td>\n",
       "      <td>22.537593</td>\n",
       "      <td>22 Years and 7 Months</td>\n",
       "      <td>No</td>\n",
       "      <td>49.574949</td>\n",
       "      <td>178.3440674122349</td>\n",
       "      <td>Low_spent_Small_value_payments</td>\n",
       "      <td>244.5653167062043</td>\n",
       "      <td>Good</td>\n",
       "    </tr>\n",
       "    <tr>\n",
       "      <th>7</th>\n",
       "      <td>0x1609</td>\n",
       "      <td>CUS_0xd40</td>\n",
       "      <td>August</td>\n",
       "      <td>NaN</td>\n",
       "      <td>23</td>\n",
       "      <td>#F%$D@*&amp;8</td>\n",
       "      <td>Scientist</td>\n",
       "      <td>19114.12</td>\n",
       "      <td>1824.843333</td>\n",
       "      <td>3</td>\n",
       "      <td>...</td>\n",
       "      <td>Good</td>\n",
       "      <td>809.98</td>\n",
       "      <td>23.933795</td>\n",
       "      <td>NaN</td>\n",
       "      <td>No</td>\n",
       "      <td>49.574949</td>\n",
       "      <td>24.785216509052056</td>\n",
       "      <td>High_spent_Medium_value_payments</td>\n",
       "      <td>358.12416760938714</td>\n",
       "      <td>Standard</td>\n",
       "    </tr>\n",
       "    <tr>\n",
       "      <th>8</th>\n",
       "      <td>0x160e</td>\n",
       "      <td>CUS_0x21b1</td>\n",
       "      <td>January</td>\n",
       "      <td>Rick Rothackerj</td>\n",
       "      <td>28_</td>\n",
       "      <td>004-07-5839</td>\n",
       "      <td>_______</td>\n",
       "      <td>34847.84</td>\n",
       "      <td>3037.986667</td>\n",
       "      <td>2</td>\n",
       "      <td>...</td>\n",
       "      <td>Good</td>\n",
       "      <td>605.03</td>\n",
       "      <td>24.464031</td>\n",
       "      <td>26 Years and 7 Months</td>\n",
       "      <td>No</td>\n",
       "      <td>18.816215</td>\n",
       "      <td>104.291825168246</td>\n",
       "      <td>Low_spent_Small_value_payments</td>\n",
       "      <td>470.69062692529184</td>\n",
       "      <td>Standard</td>\n",
       "    </tr>\n",
       "    <tr>\n",
       "      <th>9</th>\n",
       "      <td>0x160f</td>\n",
       "      <td>CUS_0x21b1</td>\n",
       "      <td>February</td>\n",
       "      <td>Rick Rothackerj</td>\n",
       "      <td>28</td>\n",
       "      <td>004-07-5839</td>\n",
       "      <td>Teacher</td>\n",
       "      <td>34847.84</td>\n",
       "      <td>3037.986667</td>\n",
       "      <td>2</td>\n",
       "      <td>...</td>\n",
       "      <td>Good</td>\n",
       "      <td>605.03</td>\n",
       "      <td>38.550848</td>\n",
       "      <td>26 Years and 8 Months</td>\n",
       "      <td>No</td>\n",
       "      <td>18.816215</td>\n",
       "      <td>40.39123782853101</td>\n",
       "      <td>High_spent_Large_value_payments</td>\n",
       "      <td>484.5912142650067</td>\n",
       "      <td>Good</td>\n",
       "    </tr>\n",
       "  </tbody>\n",
       "</table>\n",
       "<p>10 rows × 28 columns</p>\n",
       "</div>"
      ],
      "text/plain": [
       "       ID Customer_ID     Month             Name   Age          SSN  \\\n",
       "0  0x1602   CUS_0xd40   January    Aaron Maashoh    23  821-00-0265   \n",
       "1  0x1603   CUS_0xd40  February    Aaron Maashoh    23  821-00-0265   \n",
       "2  0x1604   CUS_0xd40     March    Aaron Maashoh  -500  821-00-0265   \n",
       "3  0x1605   CUS_0xd40     April    Aaron Maashoh    23  821-00-0265   \n",
       "4  0x1606   CUS_0xd40       May    Aaron Maashoh    23  821-00-0265   \n",
       "5  0x1607   CUS_0xd40      June    Aaron Maashoh    23  821-00-0265   \n",
       "6  0x1608   CUS_0xd40      July    Aaron Maashoh    23  821-00-0265   \n",
       "7  0x1609   CUS_0xd40    August              NaN    23    #F%$D@*&8   \n",
       "8  0x160e  CUS_0x21b1   January  Rick Rothackerj   28_  004-07-5839   \n",
       "9  0x160f  CUS_0x21b1  February  Rick Rothackerj    28  004-07-5839   \n",
       "\n",
       "  Occupation Annual_Income  Monthly_Inhand_Salary  Num_Bank_Accounts  ...  \\\n",
       "0  Scientist      19114.12            1824.843333                  3  ...   \n",
       "1  Scientist      19114.12                    NaN                  3  ...   \n",
       "2  Scientist      19114.12                    NaN                  3  ...   \n",
       "3  Scientist      19114.12                    NaN                  3  ...   \n",
       "4  Scientist      19114.12            1824.843333                  3  ...   \n",
       "5  Scientist      19114.12                    NaN                  3  ...   \n",
       "6  Scientist      19114.12            1824.843333                  3  ...   \n",
       "7  Scientist      19114.12            1824.843333                  3  ...   \n",
       "8    _______      34847.84            3037.986667                  2  ...   \n",
       "9    Teacher      34847.84            3037.986667                  2  ...   \n",
       "\n",
       "   Credit_Mix  Outstanding_Debt Credit_Utilization_Ratio  \\\n",
       "0           _            809.98                26.822620   \n",
       "1        Good            809.98                31.944960   \n",
       "2        Good            809.98                28.609352   \n",
       "3        Good            809.98                31.377862   \n",
       "4        Good            809.98                24.797347   \n",
       "5        Good            809.98                27.262259   \n",
       "6        Good            809.98                22.537593   \n",
       "7        Good            809.98                23.933795   \n",
       "8        Good            605.03                24.464031   \n",
       "9        Good            605.03                38.550848   \n",
       "\n",
       "      Credit_History_Age  Payment_of_Min_Amount Total_EMI_per_month  \\\n",
       "0  22 Years and 1 Months                     No           49.574949   \n",
       "1                    NaN                     No           49.574949   \n",
       "2  22 Years and 3 Months                     No           49.574949   \n",
       "3  22 Years and 4 Months                     No           49.574949   \n",
       "4  22 Years and 5 Months                     No           49.574949   \n",
       "5  22 Years and 6 Months                     No           49.574949   \n",
       "6  22 Years and 7 Months                     No           49.574949   \n",
       "7                    NaN                     No           49.574949   \n",
       "8  26 Years and 7 Months                     No           18.816215   \n",
       "9  26 Years and 8 Months                     No           18.816215   \n",
       "\n",
       "  Amount_invested_monthly                 Payment_Behaviour  \\\n",
       "0       80.41529543900253   High_spent_Small_value_payments   \n",
       "1      118.28022162236736    Low_spent_Large_value_payments   \n",
       "2         81.699521264648   Low_spent_Medium_value_payments   \n",
       "3       199.4580743910713    Low_spent_Small_value_payments   \n",
       "4      41.420153086217326  High_spent_Medium_value_payments   \n",
       "5      62.430172331195294                            !@9#%8   \n",
       "6       178.3440674122349    Low_spent_Small_value_payments   \n",
       "7      24.785216509052056  High_spent_Medium_value_payments   \n",
       "8        104.291825168246    Low_spent_Small_value_payments   \n",
       "9       40.39123782853101   High_spent_Large_value_payments   \n",
       "\n",
       "      Monthly_Balance Credit_Score  \n",
       "0  312.49408867943663         Good  \n",
       "1  284.62916249607184         Good  \n",
       "2   331.2098628537912         Good  \n",
       "3  223.45130972736786         Good  \n",
       "4  341.48923103222177         Good  \n",
       "5   340.4792117872438         Good  \n",
       "6   244.5653167062043         Good  \n",
       "7  358.12416760938714     Standard  \n",
       "8  470.69062692529184     Standard  \n",
       "9   484.5912142650067         Good  \n",
       "\n",
       "[10 rows x 28 columns]"
      ]
     },
     "execution_count": 5,
     "metadata": {},
     "output_type": "execute_result"
    }
   ],
   "source": [
    "df.head(10)"
   ]
  },
  {
   "cell_type": "code",
   "execution_count": 6,
   "id": "e45c9b4e-58d4-4cc2-ad6e-6e4c3d5627b8",
   "metadata": {},
   "outputs": [
    {
     "name": "stdout",
     "output_type": "stream",
     "text": [
      "<class 'pandas.core.frame.DataFrame'>\n",
      "RangeIndex: 100000 entries, 0 to 99999\n",
      "Data columns (total 28 columns):\n",
      " #   Column                    Non-Null Count   Dtype  \n",
      "---  ------                    --------------   -----  \n",
      " 0   ID                        100000 non-null  object \n",
      " 1   Customer_ID               100000 non-null  object \n",
      " 2   Month                     100000 non-null  object \n",
      " 3   Name                      90015 non-null   object \n",
      " 4   Age                       100000 non-null  object \n",
      " 5   SSN                       100000 non-null  object \n",
      " 6   Occupation                100000 non-null  object \n",
      " 7   Annual_Income             100000 non-null  object \n",
      " 8   Monthly_Inhand_Salary     84998 non-null   float64\n",
      " 9   Num_Bank_Accounts         100000 non-null  int64  \n",
      " 10  Num_Credit_Card           100000 non-null  int64  \n",
      " 11  Interest_Rate             100000 non-null  int64  \n",
      " 12  Num_of_Loan               100000 non-null  object \n",
      " 13  Type_of_Loan              88592 non-null   object \n",
      " 14  Delay_from_due_date       100000 non-null  int64  \n",
      " 15  Num_of_Delayed_Payment    92998 non-null   object \n",
      " 16  Changed_Credit_Limit      100000 non-null  object \n",
      " 17  Num_Credit_Inquiries      98035 non-null   float64\n",
      " 18  Credit_Mix                100000 non-null  object \n",
      " 19  Outstanding_Debt          100000 non-null  object \n",
      " 20  Credit_Utilization_Ratio  100000 non-null  float64\n",
      " 21  Credit_History_Age        90970 non-null   object \n",
      " 22  Payment_of_Min_Amount     100000 non-null  object \n",
      " 23  Total_EMI_per_month       100000 non-null  float64\n",
      " 24  Amount_invested_monthly   95521 non-null   object \n",
      " 25  Payment_Behaviour         100000 non-null  object \n",
      " 26  Monthly_Balance           98800 non-null   object \n",
      " 27  Credit_Score              100000 non-null  object \n",
      "dtypes: float64(4), int64(4), object(20)\n",
      "memory usage: 21.4+ MB\n"
     ]
    }
   ],
   "source": [
    "df.info()"
   ]
  },
  {
   "cell_type": "code",
   "execution_count": 7,
   "id": "7b04cbc0-4540-4de7-a054-b8ded2257e75",
   "metadata": {},
   "outputs": [
    {
     "data": {
      "text/plain": [
       "100000"
      ]
     },
     "execution_count": 7,
     "metadata": {},
     "output_type": "execute_result"
    }
   ],
   "source": [
    "df['ID'].drop_duplicates().shape[0]\n",
    "# każdy wiersz ma swoje id więc wszystkie wpisy w tabeli są unikalne\n",
    "# df = df.drop(columns = ['ID', 'Name', 'SSN'])"
   ]
  },
  {
   "cell_type": "markdown",
   "id": "b4dd3883-60dd-47ff-8172-f6a45e70b2e9",
   "metadata": {
    "tags": []
   },
   "source": [
    "## zamiana typów kolumn na numeryczne"
   ]
  },
  {
   "cell_type": "markdown",
   "id": "6c606698-36a8-45f4-841a-1c9978030674",
   "metadata": {},
   "source": [
    "#### wojtuś uwu"
   ]
  },
  {
   "cell_type": "code",
   "execution_count": 8,
   "id": "ffc5c222-1b9c-4106-971f-3ecb536da858",
   "metadata": {},
   "outputs": [],
   "source": [
    "df['Outstanding_Debt'] = Object_to_Numeric(df, 'Outstanding_Debt')\n",
    "df['Amount_invested_monthly'] = Object_to_Numeric(df, 'Amount_invested_monthly')\n",
    "df['Changed_Credit_Limit'] = Object_to_Numeric(df, 'Changed_Credit_Limit')\n",
    "df['Monthly_Balance'] = df['Monthly_Balance'].str.replace('_', '')\n",
    "df = df.astype({'Monthly_Balance': 'float'})"
   ]
  },
  {
   "cell_type": "code",
   "execution_count": 9,
   "id": "c5d5ad58-7d84-462a-bfeb-c654edde326e",
   "metadata": {},
   "outputs": [
    {
     "name": "stderr",
     "output_type": "stream",
     "text": [
      "C:\\Users\\wwier\\AppData\\Local\\Temp\\ipykernel_17560\\2355454557.py:3: FutureWarning: The default value of regex will change from True to False in a future version.\n",
      "  return df['Credit_History_Age'].str.replace('\\D+', '* 12 +')\n",
      "C:\\Users\\wwier\\AppData\\Local\\Temp\\ipykernel_17560\\2810006821.py:2: SettingWithCopyWarning: \n",
      "A value is trying to be set on a copy of a slice from a DataFrame\n",
      "\n",
      "See the caveats in the documentation: https://pandas.pydata.org/pandas-docs/stable/user_guide/indexing.html#returning-a-view-versus-a-copy\n",
      "  df['Credit_History_Age'].loc[df.Credit_History_Age.isnull()] = df['Credit_History_Age'].loc[df.Credit_History_Age.isnull()].apply(\n"
     ]
    }
   ],
   "source": [
    "df['Credit_History_Age'] = History_Age_2_months(df)\n",
    "df['Credit_History_Age'].loc[df.Credit_History_Age.isnull()] = df['Credit_History_Age'].loc[df.Credit_History_Age.isnull()].apply(\n",
    "        lambda x: '-1') #Brak danych jest teraz -1\n",
    "df['Credit_History_Age'] = df['Credit_History_Age'].apply(eval)"
   ]
  },
  {
   "cell_type": "code",
   "execution_count": 10,
   "id": "3ee0cd42-c5a9-4154-a978-3b02cc950478",
   "metadata": {},
   "outputs": [],
   "source": [
    "le = preprocessing.LabelEncoder()\n",
    "df['Payment_of_Min_Amount'] = le.fit_transform(df['Payment_of_Min_Amount'])\n",
    "df['Payment_Behaviour'] = np.where(df['Payment_Behaviour']== '!@9#%8', np.nan, df['Payment_Behaviour'])\n",
    "df['spent'] = np.where('Low' == df['Payment_Behaviour'].str[0:3], 0,1)\n",
    "df['payment_value'] = df['Payment_Behaviour'].str.extract(r'^(?:[^_]+_){2}([^_ ]+)')\n",
    "df['payment_value'] = le.fit_transform(df['payment_value'])\n",
    "df['payment_value'] = np.where(df['payment_value'] == 3, np.nan, df['payment_value'])\n",
    "df = df.drop('Payment_Behaviour', axis=1)"
   ]
  },
  {
   "cell_type": "code",
   "execution_count": 11,
   "id": "6b88c985-ec3e-4afd-85ea-ab96f6106ab4",
   "metadata": {},
   "outputs": [
    {
     "name": "stderr",
     "output_type": "stream",
     "text": [
      "C:\\Users\\wwier\\AppData\\Local\\Temp\\ipykernel_17560\\1879291088.py:3: SettingWithCopyWarning: \n",
      "A value is trying to be set on a copy of a slice from a DataFrame\n",
      "\n",
      "See the caveats in the documentation: https://pandas.pydata.org/pandas-docs/stable/user_guide/indexing.html#returning-a-view-versus-a-copy\n",
      "  df['Type_of_Loan'].loc[df.Type_of_Loan.isnull()] = df['Type_of_Loan'].loc[df.Type_of_Loan.isnull()].apply(lambda x: [])\n"
     ]
    }
   ],
   "source": [
    "df['Type_of_Loan'] = df['Type_of_Loan'].str.replace('and ', '')\n",
    "df.Type_of_Loan = df.Type_of_Loan.str.split(', ')\n",
    "df['Type_of_Loan'].loc[df.Type_of_Loan.isnull()] = df['Type_of_Loan'].loc[df.Type_of_Loan.isnull()].apply(lambda x: [])\n",
    "mlb = MultiLabelBinarizer(sparse_output=True)\n",
    "df = df.join(\n",
    "    pd.DataFrame.sparse.from_spmatrix(\n",
    "        mlb.fit_transform(df.pop('Type_of_Loan')),\n",
    "        index=df.index,\n",
    "        columns=mlb.classes_))"
   ]
  },
  {
   "cell_type": "markdown",
   "id": "a6cb6b10-f07c-46cc-81e9-0aa810bcaf92",
   "metadata": {},
   "source": [
    "#### ten drugi łeb"
   ]
  },
  {
   "cell_type": "code",
   "execution_count": 12,
   "id": "1f36001c-5c60-4a51-8569-37839a39648d",
   "metadata": {},
   "outputs": [],
   "source": [
    "#2 Month na numeric\n",
    "df['Month'] = df['Month'].apply(lambda mname: datetime.strptime(mname, '%B').month)\n",
    "\n",
    "#4 Age na numeric\n",
    "df['Age'] = df['Age'].convert_dtypes().apply(lambda x: x.replace(\"_\", \"\")).astype(int)\n",
    "\n",
    "#7 Annual_Income na numeric\n",
    "df['Annual_Income'] = df['Annual_Income'].convert_dtypes().apply(lambda x: x.replace(\"_\", \"\")).astype(float)\n",
    "\n",
    "#12 Num_of_Loan na numeric\n",
    "df['Num_of_Loan'] = df['Num_of_Loan'].convert_dtypes().apply(lambda x: x.replace(\"_\", \"\")).astype(int)\n",
    "\n",
    "#15 Num_of_Delayed_Payment na numeric\n",
    "df['Num_of_Delayed_Payment'] = df['Num_of_Delayed_Payment'].convert_dtypes()\n",
    "df['Num_of_Delayed_Payment'] = df['Num_of_Delayed_Payment'].str.replace('_', '')\n",
    "df['Num_of_Delayed_Payment'] = pd.to_numeric(df['Num_of_Delayed_Payment'])"
   ]
  },
  {
   "cell_type": "code",
   "execution_count": 13,
   "id": "9e675728-9755-45c6-96c7-363109bd468e",
   "metadata": {},
   "outputs": [],
   "source": [
    "# Credit_Mix na numeric\n",
    "df['Credit_Mix'] = df['Credit_Mix'].replace('_', np.nan)\n",
    "df['Credit_Mix'] = df['Credit_Mix'].replace('Good', 2)\n",
    "df['Credit_Mix'] = df['Credit_Mix'].replace('Standard', 1)\n",
    "df['Credit_Mix'] = df['Credit_Mix'].replace('Bad', 0)\n",
    "\n",
    "# Credit_Score na numeric\n",
    "df['Credit_Score'] = df['Credit_Score'].replace('Good', 2)\n",
    "df['Credit_Score'] = df['Credit_Score'].replace('Standard', 1)\n",
    "df['Credit_Score'] = df['Credit_Score'].replace('Poor', 0)"
   ]
  },
  {
   "cell_type": "code",
   "execution_count": 14,
   "id": "f958c29c-2763-45d7-aedf-3de3cba150d0",
   "metadata": {},
   "outputs": [],
   "source": [
    "df.drop(columns=['ID','Customer_ID','Name','SSN'], inplace=True)"
   ]
  },
  {
   "cell_type": "markdown",
   "id": "87058f50-22b8-4586-b8de-4f82ec76b834",
   "metadata": {},
   "source": [
    "## Usuwanie błędnych wartości"
   ]
  },
  {
   "cell_type": "markdown",
   "id": "b4a64907-9dd6-47ba-8c7a-73992ffbdffd",
   "metadata": {},
   "source": [
    "#### wojtuś uwu"
   ]
  },
  {
   "cell_type": "code",
   "execution_count": 15,
   "id": "c1b4a2d5-5fea-4db5-83c1-3e15353c6603",
   "metadata": {},
   "outputs": [],
   "source": [
    "df.Monthly_Balance = np.where(df.Monthly_Balance == min(df.Monthly_Balance), np.nan, df.Monthly_Balance)\n",
    "df.Credit_History_Age = np.where(df.Credit_History_Age == -1, np.nan, df.Credit_History_Age)\n",
    "df.Amount_invested_monthly = np.where(df.Amount_invested_monthly == 10000, np.nan, df.Amount_invested_monthly)\n",
    "df.Num_Bank_Accounts = np.where(df.Num_Bank_Accounts == -1, np.nan, df.Num_Bank_Accounts)"
   ]
  },
  {
   "cell_type": "markdown",
   "id": "899e0a6c-9334-4a77-91e7-3adb2392ffed",
   "metadata": {},
   "source": [
    "#### zimny drań "
   ]
  },
  {
   "cell_type": "code",
   "execution_count": 16,
   "id": "8ed011c0-f1cc-4806-8f50-6e192c5d31ea",
   "metadata": {},
   "outputs": [],
   "source": [
    "df['Age'] = np.where(df['Age'] < 0, np.nan, df['Age'])"
   ]
  },
  {
   "cell_type": "code",
   "execution_count": 17,
   "id": "146fe23f-2518-4905-8f53-0f815982483c",
   "metadata": {
    "tags": []
   },
   "outputs": [],
   "source": [
    "df['Num_of_Loan'] = np.where(df['Num_of_Loan'] < 0, np.nan, df['Num_of_Loan'])"
   ]
  },
  {
   "cell_type": "code",
   "execution_count": 18,
   "id": "df22e583-2422-4246-98ab-413c80ca932e",
   "metadata": {
    "tags": []
   },
   "outputs": [],
   "source": [
    "df['Changed_Credit_Limit'] = np.where(df['Changed_Credit_Limit'] < 0, np.nan, df['Changed_Credit_Limit'])"
   ]
  },
  {
   "cell_type": "markdown",
   "id": "66b9314d-2eec-4c8c-a56a-12014c0de134",
   "metadata": {},
   "source": [
    "## ogar nan"
   ]
  },
  {
   "cell_type": "code",
   "execution_count": 19,
   "id": "297b6991-2d33-4b53-84ff-32f23a812b07",
   "metadata": {},
   "outputs": [
    {
     "data": {
      "text/html": [
       "<div>\n",
       "<style scoped>\n",
       "    .dataframe tbody tr th:only-of-type {\n",
       "        vertical-align: middle;\n",
       "    }\n",
       "\n",
       "    .dataframe tbody tr th {\n",
       "        vertical-align: top;\n",
       "    }\n",
       "\n",
       "    .dataframe thead th {\n",
       "        text-align: right;\n",
       "    }\n",
       "</style>\n",
       "<table border=\"1\" class=\"dataframe\">\n",
       "  <thead>\n",
       "    <tr style=\"text-align: right;\">\n",
       "      <th></th>\n",
       "      <th>Month</th>\n",
       "      <th>Age</th>\n",
       "      <th>Annual_Income</th>\n",
       "      <th>Monthly_Inhand_Salary</th>\n",
       "      <th>Num_Bank_Accounts</th>\n",
       "      <th>Num_Credit_Card</th>\n",
       "      <th>Interest_Rate</th>\n",
       "      <th>Num_of_Loan</th>\n",
       "      <th>Delay_from_due_date</th>\n",
       "      <th>Num_of_Delayed_Payment</th>\n",
       "      <th>...</th>\n",
       "      <th>Outstanding_Debt</th>\n",
       "      <th>Credit_Utilization_Ratio</th>\n",
       "      <th>Credit_History_Age</th>\n",
       "      <th>Payment_of_Min_Amount</th>\n",
       "      <th>Total_EMI_per_month</th>\n",
       "      <th>Amount_invested_monthly</th>\n",
       "      <th>Monthly_Balance</th>\n",
       "      <th>Credit_Score</th>\n",
       "      <th>spent</th>\n",
       "      <th>payment_value</th>\n",
       "    </tr>\n",
       "  </thead>\n",
       "  <tbody>\n",
       "    <tr>\n",
       "      <th>count</th>\n",
       "      <td>100000.000000</td>\n",
       "      <td>99114.000000</td>\n",
       "      <td>1.000000e+05</td>\n",
       "      <td>84998.000000</td>\n",
       "      <td>99979.000000</td>\n",
       "      <td>100000.00000</td>\n",
       "      <td>100000.000000</td>\n",
       "      <td>96124.000000</td>\n",
       "      <td>100000.000000</td>\n",
       "      <td>92998.000000</td>\n",
       "      <td>...</td>\n",
       "      <td>100000.000000</td>\n",
       "      <td>100000.000000</td>\n",
       "      <td>90970.000000</td>\n",
       "      <td>100000.000000</td>\n",
       "      <td>100000.000000</td>\n",
       "      <td>91216.000000</td>\n",
       "      <td>98791.000000</td>\n",
       "      <td>100000.00000</td>\n",
       "      <td>100000.000000</td>\n",
       "      <td>92400.000000</td>\n",
       "    </tr>\n",
       "    <tr>\n",
       "      <th>mean</th>\n",
       "      <td>4.500000</td>\n",
       "      <td>116.108421</td>\n",
       "      <td>1.764157e+05</td>\n",
       "      <td>4194.170850</td>\n",
       "      <td>17.095080</td>\n",
       "      <td>22.47443</td>\n",
       "      <td>72.466040</td>\n",
       "      <td>7.163622</td>\n",
       "      <td>21.068780</td>\n",
       "      <td>30.923342</td>\n",
       "      <td>...</td>\n",
       "      <td>1426.220376</td>\n",
       "      <td>32.285173</td>\n",
       "      <td>221.195405</td>\n",
       "      <td>1.403190</td>\n",
       "      <td>1403.118217</td>\n",
       "      <td>195.539456</td>\n",
       "      <td>402.551258</td>\n",
       "      <td>0.88830</td>\n",
       "      <td>0.502010</td>\n",
       "      <td>1.137522</td>\n",
       "    </tr>\n",
       "    <tr>\n",
       "      <th>std</th>\n",
       "      <td>2.291299</td>\n",
       "      <td>686.861274</td>\n",
       "      <td>1.429618e+06</td>\n",
       "      <td>3183.686167</td>\n",
       "      <td>117.416871</td>\n",
       "      <td>129.05741</td>\n",
       "      <td>466.422621</td>\n",
       "      <td>60.314923</td>\n",
       "      <td>14.860104</td>\n",
       "      <td>226.031892</td>\n",
       "      <td>...</td>\n",
       "      <td>1155.129026</td>\n",
       "      <td>5.116875</td>\n",
       "      <td>99.741364</td>\n",
       "      <td>0.693378</td>\n",
       "      <td>8306.041270</td>\n",
       "      <td>199.564527</td>\n",
       "      <td>213.925499</td>\n",
       "      <td>0.67512</td>\n",
       "      <td>0.499998</td>\n",
       "      <td>0.800785</td>\n",
       "    </tr>\n",
       "    <tr>\n",
       "      <th>min</th>\n",
       "      <td>1.000000</td>\n",
       "      <td>14.000000</td>\n",
       "      <td>7.005930e+03</td>\n",
       "      <td>303.645417</td>\n",
       "      <td>0.000000</td>\n",
       "      <td>0.00000</td>\n",
       "      <td>1.000000</td>\n",
       "      <td>0.000000</td>\n",
       "      <td>-5.000000</td>\n",
       "      <td>-3.000000</td>\n",
       "      <td>...</td>\n",
       "      <td>0.230000</td>\n",
       "      <td>20.000000</td>\n",
       "      <td>1.000000</td>\n",
       "      <td>0.000000</td>\n",
       "      <td>0.000000</td>\n",
       "      <td>0.000000</td>\n",
       "      <td>0.007760</td>\n",
       "      <td>0.00000</td>\n",
       "      <td>0.000000</td>\n",
       "      <td>0.000000</td>\n",
       "    </tr>\n",
       "    <tr>\n",
       "      <th>25%</th>\n",
       "      <td>2.750000</td>\n",
       "      <td>25.000000</td>\n",
       "      <td>1.945750e+04</td>\n",
       "      <td>1625.568229</td>\n",
       "      <td>3.000000</td>\n",
       "      <td>4.00000</td>\n",
       "      <td>8.000000</td>\n",
       "      <td>2.000000</td>\n",
       "      <td>10.000000</td>\n",
       "      <td>9.000000</td>\n",
       "      <td>...</td>\n",
       "      <td>566.072500</td>\n",
       "      <td>28.052567</td>\n",
       "      <td>144.000000</td>\n",
       "      <td>1.000000</td>\n",
       "      <td>30.306660</td>\n",
       "      <td>72.236692</td>\n",
       "      <td>270.106630</td>\n",
       "      <td>0.00000</td>\n",
       "      <td>0.000000</td>\n",
       "      <td>0.000000</td>\n",
       "    </tr>\n",
       "    <tr>\n",
       "      <th>50%</th>\n",
       "      <td>4.500000</td>\n",
       "      <td>33.000000</td>\n",
       "      <td>3.757861e+04</td>\n",
       "      <td>3093.745000</td>\n",
       "      <td>6.000000</td>\n",
       "      <td>5.00000</td>\n",
       "      <td>13.000000</td>\n",
       "      <td>3.000000</td>\n",
       "      <td>18.000000</td>\n",
       "      <td>14.000000</td>\n",
       "      <td>...</td>\n",
       "      <td>1166.155000</td>\n",
       "      <td>32.305784</td>\n",
       "      <td>219.000000</td>\n",
       "      <td>2.000000</td>\n",
       "      <td>69.249473</td>\n",
       "      <td>128.954538</td>\n",
       "      <td>336.731225</td>\n",
       "      <td>1.00000</td>\n",
       "      <td>1.000000</td>\n",
       "      <td>1.000000</td>\n",
       "    </tr>\n",
       "    <tr>\n",
       "      <th>75%</th>\n",
       "      <td>6.250000</td>\n",
       "      <td>42.000000</td>\n",
       "      <td>7.279092e+04</td>\n",
       "      <td>5957.448333</td>\n",
       "      <td>7.000000</td>\n",
       "      <td>7.00000</td>\n",
       "      <td>20.000000</td>\n",
       "      <td>5.000000</td>\n",
       "      <td>28.000000</td>\n",
       "      <td>18.000000</td>\n",
       "      <td>...</td>\n",
       "      <td>1945.962500</td>\n",
       "      <td>36.496663</td>\n",
       "      <td>302.000000</td>\n",
       "      <td>2.000000</td>\n",
       "      <td>161.224249</td>\n",
       "      <td>236.815814</td>\n",
       "      <td>470.262938</td>\n",
       "      <td>1.00000</td>\n",
       "      <td>1.000000</td>\n",
       "      <td>2.000000</td>\n",
       "    </tr>\n",
       "    <tr>\n",
       "      <th>max</th>\n",
       "      <td>8.000000</td>\n",
       "      <td>8698.000000</td>\n",
       "      <td>2.419806e+07</td>\n",
       "      <td>15204.633333</td>\n",
       "      <td>1798.000000</td>\n",
       "      <td>1499.00000</td>\n",
       "      <td>5797.000000</td>\n",
       "      <td>1496.000000</td>\n",
       "      <td>67.000000</td>\n",
       "      <td>4397.000000</td>\n",
       "      <td>...</td>\n",
       "      <td>4998.070000</td>\n",
       "      <td>50.000000</td>\n",
       "      <td>404.000000</td>\n",
       "      <td>2.000000</td>\n",
       "      <td>82331.000000</td>\n",
       "      <td>1977.326102</td>\n",
       "      <td>1602.040519</td>\n",
       "      <td>2.00000</td>\n",
       "      <td>1.000000</td>\n",
       "      <td>2.000000</td>\n",
       "    </tr>\n",
       "  </tbody>\n",
       "</table>\n",
       "<p>8 rows × 23 columns</p>\n",
       "</div>"
      ],
      "text/plain": [
       "               Month           Age  Annual_Income  Monthly_Inhand_Salary  \\\n",
       "count  100000.000000  99114.000000   1.000000e+05           84998.000000   \n",
       "mean        4.500000    116.108421   1.764157e+05            4194.170850   \n",
       "std         2.291299    686.861274   1.429618e+06            3183.686167   \n",
       "min         1.000000     14.000000   7.005930e+03             303.645417   \n",
       "25%         2.750000     25.000000   1.945750e+04            1625.568229   \n",
       "50%         4.500000     33.000000   3.757861e+04            3093.745000   \n",
       "75%         6.250000     42.000000   7.279092e+04            5957.448333   \n",
       "max         8.000000   8698.000000   2.419806e+07           15204.633333   \n",
       "\n",
       "       Num_Bank_Accounts  Num_Credit_Card  Interest_Rate   Num_of_Loan  \\\n",
       "count       99979.000000     100000.00000  100000.000000  96124.000000   \n",
       "mean           17.095080         22.47443      72.466040      7.163622   \n",
       "std           117.416871        129.05741     466.422621     60.314923   \n",
       "min             0.000000          0.00000       1.000000      0.000000   \n",
       "25%             3.000000          4.00000       8.000000      2.000000   \n",
       "50%             6.000000          5.00000      13.000000      3.000000   \n",
       "75%             7.000000          7.00000      20.000000      5.000000   \n",
       "max          1798.000000       1499.00000    5797.000000   1496.000000   \n",
       "\n",
       "       Delay_from_due_date  Num_of_Delayed_Payment  ...  Outstanding_Debt  \\\n",
       "count        100000.000000            92998.000000  ...     100000.000000   \n",
       "mean             21.068780               30.923342  ...       1426.220376   \n",
       "std              14.860104              226.031892  ...       1155.129026   \n",
       "min              -5.000000               -3.000000  ...          0.230000   \n",
       "25%              10.000000                9.000000  ...        566.072500   \n",
       "50%              18.000000               14.000000  ...       1166.155000   \n",
       "75%              28.000000               18.000000  ...       1945.962500   \n",
       "max              67.000000             4397.000000  ...       4998.070000   \n",
       "\n",
       "       Credit_Utilization_Ratio  Credit_History_Age  Payment_of_Min_Amount  \\\n",
       "count             100000.000000        90970.000000          100000.000000   \n",
       "mean                  32.285173          221.195405               1.403190   \n",
       "std                    5.116875           99.741364               0.693378   \n",
       "min                   20.000000            1.000000               0.000000   \n",
       "25%                   28.052567          144.000000               1.000000   \n",
       "50%                   32.305784          219.000000               2.000000   \n",
       "75%                   36.496663          302.000000               2.000000   \n",
       "max                   50.000000          404.000000               2.000000   \n",
       "\n",
       "       Total_EMI_per_month  Amount_invested_monthly  Monthly_Balance  \\\n",
       "count        100000.000000             91216.000000     98791.000000   \n",
       "mean           1403.118217               195.539456       402.551258   \n",
       "std            8306.041270               199.564527       213.925499   \n",
       "min               0.000000                 0.000000         0.007760   \n",
       "25%              30.306660                72.236692       270.106630   \n",
       "50%              69.249473               128.954538       336.731225   \n",
       "75%             161.224249               236.815814       470.262938   \n",
       "max           82331.000000              1977.326102      1602.040519   \n",
       "\n",
       "       Credit_Score          spent  payment_value  \n",
       "count  100000.00000  100000.000000   92400.000000  \n",
       "mean        0.88830       0.502010       1.137522  \n",
       "std         0.67512       0.499998       0.800785  \n",
       "min         0.00000       0.000000       0.000000  \n",
       "25%         0.00000       0.000000       0.000000  \n",
       "50%         1.00000       1.000000       1.000000  \n",
       "75%         1.00000       1.000000       2.000000  \n",
       "max         2.00000       1.000000       2.000000  \n",
       "\n",
       "[8 rows x 23 columns]"
      ]
     },
     "execution_count": 19,
     "metadata": {},
     "output_type": "execute_result"
    }
   ],
   "source": [
    "df.iloc[:, :24].describe()"
   ]
  },
  {
   "cell_type": "markdown",
   "id": "3a5dee06-049e-40c5-9f26-b36737b688e1",
   "metadata": {},
   "source": [
    "#### wojtuś uwu"
   ]
  },
  {
   "cell_type": "code",
   "execution_count": 20,
   "id": "77f67369-6560-4b90-9952-08a89abea5b3",
   "metadata": {},
   "outputs": [],
   "source": [
    "#Wszystkie moje NaN można zastąpić medianą/min-max, poza 'payment_value', bo to nulle w encodingu (0/1/2)"
   ]
  },
  {
   "cell_type": "markdown",
   "id": "8d5811be-c4ab-4ee3-87da-1e1f0949a5a9",
   "metadata": {},
   "source": [
    "#### zimny drań"
   ]
  },
  {
   "cell_type": "code",
   "execution_count": 54,
   "id": "802c0318-e2da-4392-b2b4-7ced7e2481ef",
   "metadata": {},
   "outputs": [
    {
     "name": "stdout",
     "output_type": "stream",
     "text": [
      "<class 'pandas.core.frame.DataFrame'>\n",
      "RangeIndex: 100000 entries, 0 to 99999\n",
      "Data columns (total 24 columns):\n",
      " #   Column                    Non-Null Count   Dtype  \n",
      "---  ------                    --------------   -----  \n",
      " 0   Month                     100000 non-null  int64  \n",
      " 1   Age                       100000 non-null  float64\n",
      " 2   Occupation                100000 non-null  object \n",
      " 3   Annual_Income             97993 non-null   float64\n",
      " 4   Monthly_Inhand_Salary     100000 non-null  float64\n",
      " 5   Num_Bank_Accounts         100000 non-null  float64\n",
      " 6   Num_Credit_Card           92820 non-null   float64\n",
      " 7   Interest_Rate             93781 non-null   float64\n",
      " 8   Num_of_Loan               100000 non-null  float64\n",
      " 9   Delay_from_due_date       100000 non-null  float64\n",
      " 10  Num_of_Delayed_Payment    100000 non-null  float64\n",
      " 11  Changed_Credit_Limit      100000 non-null  float64\n",
      " 12  Num_Credit_Inquiries      100000 non-null  float64\n",
      " 13  Credit_Mix                79805 non-null   float64\n",
      " 14  Outstanding_Debt          100000 non-null  float64\n",
      " 15  Credit_Utilization_Ratio  100000 non-null  float64\n",
      " 16  Credit_History_Age        100000 non-null  float64\n",
      " 17  Payment_of_Min_Amount     100000 non-null  int32  \n",
      " 18  Total_EMI_per_month       100000 non-null  float64\n",
      " 19  Amount_invested_monthly   100000 non-null  float64\n",
      " 20  Monthly_Balance           100000 non-null  float64\n",
      " 21  Credit_Score              100000 non-null  int64  \n",
      " 22  spent                     100000 non-null  int32  \n",
      " 23  payment_value             92400 non-null   float64\n",
      "dtypes: float64(19), int32(2), int64(2), object(1)\n",
      "memory usage: 17.5+ MB\n"
     ]
    }
   ],
   "source": [
    "df.info()"
   ]
  },
  {
   "cell_type": "code",
   "execution_count": 53,
   "id": "c9178a4c-f5cb-44ca-9f9e-c734eef02c43",
   "metadata": {},
   "outputs": [],
   "source": [
    "df['Age'].fillna(df['Age'].median(), inplace=True) \n",
    "df['Monthly_Inhand_Salary'].fillna(df['Monthly_Inhand_Salary'].median(), inplace=True) \n",
    "df['Num_Bank_Accounts'].fillna(df['Num_Bank_Accounts'].median(), inplace=True) \n",
    "df['Num_of_Loan'].fillna(df['Num_of_Loan'].median(), inplace=True) \n",
    "df['Num_of_Delayed_Payment'].fillna(df['Num_of_Delayed_Payment'].median(), inplace=True) \n",
    "df['Num_Bank_Accounts'].fillna(df['Num_Bank_Accounts'].median(), inplace=True) \n",
    "df['Changed_Credit_Limit'].fillna(df['Changed_Credit_Limit'].median(), inplace=True) \n",
    "df['Num_Credit_Inquiries'].fillna(df['Num_Credit_Inquiries'].median(), inplace=True) \n",
    "df['Credit_History_Age'].fillna(df['Credit_History_Age'].median(), inplace=True) \n",
    "df['Amount_invested_monthly'].fillna(df['Amount_invested_monthly'].median(), inplace=True) \n",
    "df['Monthly_Balance'].fillna(df['Monthly_Balance'].median(), inplace=True) "
   ]
  },
  {
   "cell_type": "code",
   "execution_count": 23,
   "id": "ca1e6b9c-cf93-4d10-8044-e143c47fdc36",
   "metadata": {},
   "outputs": [
    {
     "data": {
      "text/plain": [
       "Index(['Month', 'Age', 'Occupation', 'Annual_Income', 'Monthly_Inhand_Salary',\n",
       "       'Num_Bank_Accounts', 'Num_Credit_Card', 'Interest_Rate', 'Num_of_Loan',\n",
       "       'Delay_from_due_date', 'Num_of_Delayed_Payment', 'Changed_Credit_Limit',\n",
       "       'Num_Credit_Inquiries', 'Credit_Mix', 'Outstanding_Debt',\n",
       "       'Credit_Utilization_Ratio', 'Credit_History_Age',\n",
       "       'Payment_of_Min_Amount', 'Total_EMI_per_month',\n",
       "       'Amount_invested_monthly', 'Monthly_Balance', 'Credit_Score', 'spent',\n",
       "       'payment_value', 'Auto Loan', 'Credit-Builder Loan',\n",
       "       'Debt Consolidation Loan', 'Home Equity Loan', 'Mortgage Loan',\n",
       "       'Not Specified', 'Payday Loan', 'Personal Loan', 'Student Loan'],\n",
       "      dtype='object')"
      ]
     },
     "execution_count": 23,
     "metadata": {},
     "output_type": "execute_result"
    }
   ],
   "source": [
    "df.columns"
   ]
  },
  {
   "cell_type": "markdown",
   "id": "c4c4e028-f8b1-4f22-a01c-b5d25426e9b5",
   "metadata": {},
   "source": [
    "## ogar outliery"
   ]
  },
  {
   "cell_type": "code",
   "execution_count": 24,
   "id": "0b66a103-8446-465a-b69e-df0daea6c05f",
   "metadata": {},
   "outputs": [],
   "source": [
    "factor = 3"
   ]
  },
  {
   "cell_type": "code",
   "execution_count": 25,
   "id": "7430d573-9297-46e2-8a93-911375c31abf",
   "metadata": {},
   "outputs": [
    {
     "data": {
      "text/html": [
       "<div>\n",
       "<style scoped>\n",
       "    .dataframe tbody tr th:only-of-type {\n",
       "        vertical-align: middle;\n",
       "    }\n",
       "\n",
       "    .dataframe tbody tr th {\n",
       "        vertical-align: top;\n",
       "    }\n",
       "\n",
       "    .dataframe thead th {\n",
       "        text-align: right;\n",
       "    }\n",
       "</style>\n",
       "<table border=\"1\" class=\"dataframe\">\n",
       "  <thead>\n",
       "    <tr style=\"text-align: right;\">\n",
       "      <th></th>\n",
       "      <th>Month</th>\n",
       "      <th>Age</th>\n",
       "      <th>Annual_Income</th>\n",
       "      <th>Monthly_Inhand_Salary</th>\n",
       "      <th>Num_Bank_Accounts</th>\n",
       "      <th>Num_Credit_Card</th>\n",
       "      <th>Interest_Rate</th>\n",
       "      <th>Num_of_Loan</th>\n",
       "      <th>Delay_from_due_date</th>\n",
       "      <th>Num_of_Delayed_Payment</th>\n",
       "      <th>...</th>\n",
       "      <th>Outstanding_Debt</th>\n",
       "      <th>Credit_Utilization_Ratio</th>\n",
       "      <th>Credit_History_Age</th>\n",
       "      <th>Payment_of_Min_Amount</th>\n",
       "      <th>Total_EMI_per_month</th>\n",
       "      <th>Amount_invested_monthly</th>\n",
       "      <th>Monthly_Balance</th>\n",
       "      <th>Credit_Score</th>\n",
       "      <th>spent</th>\n",
       "      <th>payment_value</th>\n",
       "    </tr>\n",
       "  </thead>\n",
       "  <tbody>\n",
       "    <tr>\n",
       "      <th>count</th>\n",
       "      <td>100000.000000</td>\n",
       "      <td>100000.000000</td>\n",
       "      <td>1.000000e+05</td>\n",
       "      <td>100000.000000</td>\n",
       "      <td>100000.000000</td>\n",
       "      <td>100000.00000</td>\n",
       "      <td>100000.000000</td>\n",
       "      <td>100000.000000</td>\n",
       "      <td>100000.000000</td>\n",
       "      <td>100000.000000</td>\n",
       "      <td>...</td>\n",
       "      <td>100000.000000</td>\n",
       "      <td>100000.000000</td>\n",
       "      <td>100000.000000</td>\n",
       "      <td>100000.000000</td>\n",
       "      <td>100000.000000</td>\n",
       "      <td>100000.000000</td>\n",
       "      <td>100000.000000</td>\n",
       "      <td>100000.00000</td>\n",
       "      <td>100000.000000</td>\n",
       "      <td>92400.000000</td>\n",
       "    </tr>\n",
       "    <tr>\n",
       "      <th>mean</th>\n",
       "      <td>4.500000</td>\n",
       "      <td>115.372080</td>\n",
       "      <td>1.764157e+05</td>\n",
       "      <td>4029.084964</td>\n",
       "      <td>17.092750</td>\n",
       "      <td>22.47443</td>\n",
       "      <td>72.466040</td>\n",
       "      <td>7.002240</td>\n",
       "      <td>21.068780</td>\n",
       "      <td>29.738370</td>\n",
       "      <td>...</td>\n",
       "      <td>1426.220376</td>\n",
       "      <td>32.285173</td>\n",
       "      <td>220.997160</td>\n",
       "      <td>1.403190</td>\n",
       "      <td>1403.118217</td>\n",
       "      <td>189.690637</td>\n",
       "      <td>401.755494</td>\n",
       "      <td>0.88830</td>\n",
       "      <td>0.502010</td>\n",
       "      <td>1.137522</td>\n",
       "    </tr>\n",
       "    <tr>\n",
       "      <th>std</th>\n",
       "      <td>2.291299</td>\n",
       "      <td>683.856027</td>\n",
       "      <td>1.429618e+06</td>\n",
       "      <td>2961.363540</td>\n",
       "      <td>117.404652</td>\n",
       "      <td>129.05741</td>\n",
       "      <td>466.422621</td>\n",
       "      <td>59.139918</td>\n",
       "      <td>14.860104</td>\n",
       "      <td>218.017612</td>\n",
       "      <td>...</td>\n",
       "      <td>1155.129026</td>\n",
       "      <td>5.116875</td>\n",
       "      <td>95.133546</td>\n",
       "      <td>0.693378</td>\n",
       "      <td>8306.041270</td>\n",
       "      <td>191.527772</td>\n",
       "      <td>212.750017</td>\n",
       "      <td>0.67512</td>\n",
       "      <td>0.499998</td>\n",
       "      <td>0.800785</td>\n",
       "    </tr>\n",
       "    <tr>\n",
       "      <th>min</th>\n",
       "      <td>1.000000</td>\n",
       "      <td>14.000000</td>\n",
       "      <td>7.005930e+03</td>\n",
       "      <td>303.645417</td>\n",
       "      <td>0.000000</td>\n",
       "      <td>0.00000</td>\n",
       "      <td>1.000000</td>\n",
       "      <td>0.000000</td>\n",
       "      <td>-5.000000</td>\n",
       "      <td>-3.000000</td>\n",
       "      <td>...</td>\n",
       "      <td>0.230000</td>\n",
       "      <td>20.000000</td>\n",
       "      <td>1.000000</td>\n",
       "      <td>0.000000</td>\n",
       "      <td>0.000000</td>\n",
       "      <td>0.000000</td>\n",
       "      <td>0.007760</td>\n",
       "      <td>0.00000</td>\n",
       "      <td>0.000000</td>\n",
       "      <td>0.000000</td>\n",
       "    </tr>\n",
       "    <tr>\n",
       "      <th>25%</th>\n",
       "      <td>2.750000</td>\n",
       "      <td>25.000000</td>\n",
       "      <td>1.945750e+04</td>\n",
       "      <td>1792.084167</td>\n",
       "      <td>3.000000</td>\n",
       "      <td>4.00000</td>\n",
       "      <td>8.000000</td>\n",
       "      <td>2.000000</td>\n",
       "      <td>10.000000</td>\n",
       "      <td>9.000000</td>\n",
       "      <td>...</td>\n",
       "      <td>566.072500</td>\n",
       "      <td>28.052567</td>\n",
       "      <td>154.000000</td>\n",
       "      <td>1.000000</td>\n",
       "      <td>30.306660</td>\n",
       "      <td>77.017414</td>\n",
       "      <td>270.913865</td>\n",
       "      <td>0.00000</td>\n",
       "      <td>0.000000</td>\n",
       "      <td>0.000000</td>\n",
       "    </tr>\n",
       "    <tr>\n",
       "      <th>50%</th>\n",
       "      <td>4.500000</td>\n",
       "      <td>33.000000</td>\n",
       "      <td>3.757861e+04</td>\n",
       "      <td>3093.745000</td>\n",
       "      <td>6.000000</td>\n",
       "      <td>5.00000</td>\n",
       "      <td>13.000000</td>\n",
       "      <td>3.000000</td>\n",
       "      <td>18.000000</td>\n",
       "      <td>14.000000</td>\n",
       "      <td>...</td>\n",
       "      <td>1166.155000</td>\n",
       "      <td>32.305784</td>\n",
       "      <td>219.000000</td>\n",
       "      <td>2.000000</td>\n",
       "      <td>69.249473</td>\n",
       "      <td>128.954538</td>\n",
       "      <td>336.731225</td>\n",
       "      <td>1.00000</td>\n",
       "      <td>1.000000</td>\n",
       "      <td>1.000000</td>\n",
       "    </tr>\n",
       "    <tr>\n",
       "      <th>75%</th>\n",
       "      <td>6.250000</td>\n",
       "      <td>42.000000</td>\n",
       "      <td>7.279092e+04</td>\n",
       "      <td>5371.525000</td>\n",
       "      <td>7.000000</td>\n",
       "      <td>7.00000</td>\n",
       "      <td>20.000000</td>\n",
       "      <td>5.000000</td>\n",
       "      <td>28.000000</td>\n",
       "      <td>18.000000</td>\n",
       "      <td>...</td>\n",
       "      <td>1945.962500</td>\n",
       "      <td>36.496663</td>\n",
       "      <td>292.000000</td>\n",
       "      <td>2.000000</td>\n",
       "      <td>161.224249</td>\n",
       "      <td>220.039055</td>\n",
       "      <td>467.670597</td>\n",
       "      <td>1.00000</td>\n",
       "      <td>1.000000</td>\n",
       "      <td>2.000000</td>\n",
       "    </tr>\n",
       "    <tr>\n",
       "      <th>max</th>\n",
       "      <td>8.000000</td>\n",
       "      <td>8698.000000</td>\n",
       "      <td>2.419806e+07</td>\n",
       "      <td>15204.633333</td>\n",
       "      <td>1798.000000</td>\n",
       "      <td>1499.00000</td>\n",
       "      <td>5797.000000</td>\n",
       "      <td>1496.000000</td>\n",
       "      <td>67.000000</td>\n",
       "      <td>4397.000000</td>\n",
       "      <td>...</td>\n",
       "      <td>4998.070000</td>\n",
       "      <td>50.000000</td>\n",
       "      <td>404.000000</td>\n",
       "      <td>2.000000</td>\n",
       "      <td>82331.000000</td>\n",
       "      <td>1977.326102</td>\n",
       "      <td>1602.040519</td>\n",
       "      <td>2.00000</td>\n",
       "      <td>1.000000</td>\n",
       "      <td>2.000000</td>\n",
       "    </tr>\n",
       "  </tbody>\n",
       "</table>\n",
       "<p>8 rows × 23 columns</p>\n",
       "</div>"
      ],
      "text/plain": [
       "               Month            Age  Annual_Income  Monthly_Inhand_Salary  \\\n",
       "count  100000.000000  100000.000000   1.000000e+05          100000.000000   \n",
       "mean        4.500000     115.372080   1.764157e+05            4029.084964   \n",
       "std         2.291299     683.856027   1.429618e+06            2961.363540   \n",
       "min         1.000000      14.000000   7.005930e+03             303.645417   \n",
       "25%         2.750000      25.000000   1.945750e+04            1792.084167   \n",
       "50%         4.500000      33.000000   3.757861e+04            3093.745000   \n",
       "75%         6.250000      42.000000   7.279092e+04            5371.525000   \n",
       "max         8.000000    8698.000000   2.419806e+07           15204.633333   \n",
       "\n",
       "       Num_Bank_Accounts  Num_Credit_Card  Interest_Rate    Num_of_Loan  \\\n",
       "count      100000.000000     100000.00000  100000.000000  100000.000000   \n",
       "mean           17.092750         22.47443      72.466040       7.002240   \n",
       "std           117.404652        129.05741     466.422621      59.139918   \n",
       "min             0.000000          0.00000       1.000000       0.000000   \n",
       "25%             3.000000          4.00000       8.000000       2.000000   \n",
       "50%             6.000000          5.00000      13.000000       3.000000   \n",
       "75%             7.000000          7.00000      20.000000       5.000000   \n",
       "max          1798.000000       1499.00000    5797.000000    1496.000000   \n",
       "\n",
       "       Delay_from_due_date  Num_of_Delayed_Payment  ...  Outstanding_Debt  \\\n",
       "count        100000.000000           100000.000000  ...     100000.000000   \n",
       "mean             21.068780               29.738370  ...       1426.220376   \n",
       "std              14.860104              218.017612  ...       1155.129026   \n",
       "min              -5.000000               -3.000000  ...          0.230000   \n",
       "25%              10.000000                9.000000  ...        566.072500   \n",
       "50%              18.000000               14.000000  ...       1166.155000   \n",
       "75%              28.000000               18.000000  ...       1945.962500   \n",
       "max              67.000000             4397.000000  ...       4998.070000   \n",
       "\n",
       "       Credit_Utilization_Ratio  Credit_History_Age  Payment_of_Min_Amount  \\\n",
       "count             100000.000000       100000.000000          100000.000000   \n",
       "mean                  32.285173          220.997160               1.403190   \n",
       "std                    5.116875           95.133546               0.693378   \n",
       "min                   20.000000            1.000000               0.000000   \n",
       "25%                   28.052567          154.000000               1.000000   \n",
       "50%                   32.305784          219.000000               2.000000   \n",
       "75%                   36.496663          292.000000               2.000000   \n",
       "max                   50.000000          404.000000               2.000000   \n",
       "\n",
       "       Total_EMI_per_month  Amount_invested_monthly  Monthly_Balance  \\\n",
       "count        100000.000000            100000.000000    100000.000000   \n",
       "mean           1403.118217               189.690637       401.755494   \n",
       "std            8306.041270               191.527772       212.750017   \n",
       "min               0.000000                 0.000000         0.007760   \n",
       "25%              30.306660                77.017414       270.913865   \n",
       "50%              69.249473               128.954538       336.731225   \n",
       "75%             161.224249               220.039055       467.670597   \n",
       "max           82331.000000              1977.326102      1602.040519   \n",
       "\n",
       "       Credit_Score          spent  payment_value  \n",
       "count  100000.00000  100000.000000   92400.000000  \n",
       "mean        0.88830       0.502010       1.137522  \n",
       "std         0.67512       0.499998       0.800785  \n",
       "min         0.00000       0.000000       0.000000  \n",
       "25%         0.00000       0.000000       0.000000  \n",
       "50%         1.00000       1.000000       1.000000  \n",
       "75%         1.00000       1.000000       2.000000  \n",
       "max         2.00000       1.000000       2.000000  \n",
       "\n",
       "[8 rows x 23 columns]"
      ]
     },
     "execution_count": 25,
     "metadata": {},
     "output_type": "execute_result"
    }
   ],
   "source": [
    "df.iloc[:, :24].describe()"
   ]
  },
  {
   "cell_type": "code",
   "execution_count": 26,
   "id": "cb11f383-95ab-4d50-a4bf-30cacbdb0f25",
   "metadata": {},
   "outputs": [
    {
     "data": {
      "text/plain": [
       "<AxesSubplot:xlabel='Month', ylabel='Count'>"
      ]
     },
     "execution_count": 26,
     "metadata": {},
     "output_type": "execute_result"
    },
    {
     "data": {
      "image/png": "[encoded data removed]",
      "text/plain": [
       "<Figure size 640x480 with 1 Axes>"
      ]
     },
     "metadata": {},
     "output_type": "display_data"
    }
   ],
   "source": [
    "#MIESIACE\n",
    "sns.histplot(df.Month)"
   ]
  },
  {
   "cell_type": "code",
   "execution_count": 27,
   "id": "2b4ada9f-35b9-4e8d-9f8d-de3d42db49bf",
   "metadata": {},
   "outputs": [
    {
     "data": {
      "text/plain": [
       "<AxesSubplot:xlabel='Age', ylabel='Count'>"
      ]
     },
     "execution_count": 27,
     "metadata": {},
     "output_type": "execute_result"
    },
    {
     "data": {
      "image/png": "[encoded data removed]",
      "text/plain": [
       "<Figure size 640x480 with 1 Axes>"
      ]
     },
     "metadata": {},
     "output_type": "display_data"
    }
   ],
   "source": [
    "#WIEK\n",
    "sns.histplot(df.Age)"
   ]
  },
  {
   "cell_type": "code",
   "execution_count": 28,
   "id": "62afdebb-d819-4324-b8c5-e5bc004c0231",
   "metadata": {},
   "outputs": [],
   "source": [
    "upper_lim = df.Age.quantile(.98)\n",
    "lower_lim = df.Age.quantile(.01)\n",
    "df.Age = df.Age[(df.Age < upper_lim) & (df.Age > lower_lim)]"
   ]
  },
  {
   "cell_type": "code",
   "execution_count": 29,
   "id": "3ed3b4bb-61f7-49de-a9c7-8437029c3abf",
   "metadata": {},
   "outputs": [
    {
     "data": {
      "text/plain": [
       "<AxesSubplot:xlabel='Age', ylabel='Count'>"
      ]
     },
     "execution_count": 29,
     "metadata": {},
     "output_type": "execute_result"
    },
    {
     "data": {
      "image/png": "[encoded data removed]",
      "text/plain": [
       "<Figure size 640x480 with 1 Axes>"
      ]
     },
     "metadata": {},
     "output_type": "display_data"
    }
   ],
   "source": [
    "sns.histplot(df.Age)"
   ]
  },
  {
   "cell_type": "code",
   "execution_count": 30,
   "id": "cf9df221-9851-4e11-951a-4bc52a674699",
   "metadata": {},
   "outputs": [
    {
     "data": {
      "text/plain": [
       "<AxesSubplot:xlabel='Annual_Income', ylabel='Count'>"
      ]
     },
     "execution_count": 30,
     "metadata": {},
     "output_type": "execute_result"
    },
    {
     "data": {
      "image/png": "[encoded data removed]",
      "text/plain": [
       "<Figure size 640x480 with 1 Axes>"
      ]
     },
     "metadata": {},
     "output_type": "display_data"
    }
   ],
   "source": [
    "#PRZYCHOD ROCZNY\n",
    "sns.histplot(df.Annual_Income)"
   ]
  },
  {
   "cell_type": "code",
   "execution_count": 31,
   "id": "2ccf6fee-939f-4d54-955b-c5cd5ed96fa1",
   "metadata": {},
   "outputs": [
    {
     "data": {
      "text/plain": [
       "<AxesSubplot:xlabel='Annual_Income', ylabel='Count'>"
      ]
     },
     "execution_count": 31,
     "metadata": {},
     "output_type": "execute_result"
    },
    {
     "data": {
      "image/png": "[encoded data removed]",
      "text/plain": [
       "<Figure size 640x480 with 1 Axes>"
      ]
     },
     "metadata": {},
     "output_type": "display_data"
    }
   ],
   "source": [
    "upper_lim = df.Annual_Income.quantile(.99)\n",
    "lower_lim = df.Annual_Income.quantile(.01)\n",
    "df.Annual_Income = df.Annual_Income[(df.Annual_Income < upper_lim) & (df.Annual_Income > lower_lim)]\n",
    "sns.histplot(df.Annual_Income)"
   ]
  },
  {
   "cell_type": "code",
   "execution_count": 32,
   "id": "331cf405-325e-4cf2-abd1-9454f496b72d",
   "metadata": {},
   "outputs": [
    {
     "data": {
      "text/plain": [
       "<AxesSubplot:xlabel='Monthly_Inhand_Salary', ylabel='Count'>"
      ]
     },
     "execution_count": 32,
     "metadata": {},
     "output_type": "execute_result"
    },
    {
     "data": {
      "image/png": "[encoded data removed]",
      "text/plain": [
       "<Figure size 640x480 with 1 Axes>"
      ]
     },
     "metadata": {},
     "output_type": "display_data"
    }
   ],
   "source": [
    "#PRZYCHOD MIESIECZNY\n",
    "sns.histplot(df.Monthly_Inhand_Salary)"
   ]
  },
  {
   "cell_type": "code",
   "execution_count": 33,
   "id": "5910cb2e-8f7e-4381-afd2-b728f51832ca",
   "metadata": {},
   "outputs": [
    {
     "data": {
      "text/plain": [
       "<AxesSubplot:xlabel='Monthly_Inhand_Salary', ylabel='Count'>"
      ]
     },
     "execution_count": 33,
     "metadata": {},
     "output_type": "execute_result"
    },
    {
     "data": {
      "image/png": "[encoded data removed]",
      "text/plain": [
       "<Figure size 640x480 with 1 Axes>"
      ]
     },
     "metadata": {},
     "output_type": "display_data"
    }
   ],
   "source": [
    "upper_lim = df['Monthly_Inhand_Salary'].mean () + df['Monthly_Inhand_Salary'].std () * factor\n",
    "lower_lim = df['Monthly_Inhand_Salary'].mean () - df['Monthly_Inhand_Salary'].std () * factor\n",
    "df['Monthly_Inhand_Salary'] = np.where(df['Monthly_Inhand_Salary'] < upper_lim, df['Monthly_Inhand_Salary'], upper_lim)\n",
    "df['Monthly_Inhand_Salary'] = np.where(df['Monthly_Inhand_Salary'] > lower_lim, df['Monthly_Inhand_Salary'], lower_lim)\n",
    "sns.histplot(df.Monthly_Inhand_Salary)"
   ]
  },
  {
   "cell_type": "code",
   "execution_count": 34,
   "id": "91fc8133-8ec6-432f-af51-172bcbf6ef8c",
   "metadata": {},
   "outputs": [
    {
     "data": {
      "text/plain": [
       "<AxesSubplot:xlabel='Num_Bank_Accounts', ylabel='Count'>"
      ]
     },
     "execution_count": 34,
     "metadata": {},
     "output_type": "execute_result"
    },
    {
     "data": {
      "image/png": "[encoded data removed]",
      "text/plain": [
       "<Figure size 640x480 with 1 Axes>"
      ]
     },
     "metadata": {},
     "output_type": "display_data"
    }
   ],
   "source": [
    "#ILE KONT\n",
    "sns.histplot(df.Num_Bank_Accounts)"
   ]
  },
  {
   "cell_type": "code",
   "execution_count": 35,
   "id": "91f2e0e9-0fec-4e62-8a84-a6d5616514fa",
   "metadata": {},
   "outputs": [
    {
     "data": {
      "text/plain": [
       "<AxesSubplot:xlabel='Num_Bank_Accounts', ylabel='Count'>"
      ]
     },
     "execution_count": 35,
     "metadata": {},
     "output_type": "execute_result"
    },
    {
     "data": {
      "image/png": "[encoded data removed]",
      "text/plain": [
       "<Figure size 640x480 with 1 Axes>"
      ]
     },
     "metadata": {},
     "output_type": "display_data"
    }
   ],
   "source": [
    "upper_lim = df.Num_Bank_Accounts.quantile(.98)\n",
    "lower_lim = df.Num_Bank_Accounts.quantile(.00)\n",
    "df.Num_Bank_Accounts = df.Num_Bank_Accounts[(df.Num_Bank_Accounts < upper_lim) & (df.Num_Bank_Accounts > lower_lim)]\n",
    "sns.histplot(df.Num_Bank_Accounts)"
   ]
  },
  {
   "cell_type": "code",
   "execution_count": 36,
   "id": "b7209b69-4196-44dc-8310-1734bb52b758",
   "metadata": {},
   "outputs": [
    {
     "data": {
      "text/plain": [
       "<AxesSubplot:xlabel='Num_Credit_Card', ylabel='Count'>"
      ]
     },
     "execution_count": 36,
     "metadata": {},
     "output_type": "execute_result"
    },
    {
     "data": {
      "image/png": "[encoded data removed]",
      "text/plain": [
       "<Figure size 640x480 with 1 Axes>"
      ]
     },
     "metadata": {},
     "output_type": "display_data"
    }
   ],
   "source": [
    "#ILE KART\n",
    "sns.histplot(df.Num_Credit_Card)"
   ]
  },
  {
   "cell_type": "code",
   "execution_count": 37,
   "id": "59c5b47f-4adf-4a69-bdd3-8591bf3233e9",
   "metadata": {},
   "outputs": [
    {
     "data": {
      "text/plain": [
       "<AxesSubplot:xlabel='Num_Credit_Card', ylabel='Count'>"
      ]
     },
     "execution_count": 37,
     "metadata": {},
     "output_type": "execute_result"
    },
    {
     "data": {
      "image/png": "[encoded data removed]",
      "text/plain": [
       "<Figure size 640x480 with 1 Axes>"
      ]
     },
     "metadata": {},
     "output_type": "display_data"
    }
   ],
   "source": [
    "upper_lim = df.Num_Credit_Card.quantile(.97)\n",
    "lower_lim = df.Num_Credit_Card.quantile(.00)\n",
    "df.Num_Credit_Card = df.Num_Credit_Card[(df.Num_Credit_Card < upper_lim) & (df.Num_Credit_Card > lower_lim)]\n",
    "sns.histplot(df.Num_Credit_Card)"
   ]
  },
  {
   "cell_type": "code",
   "execution_count": 38,
   "id": "1e45a0ef-b286-4a6d-8228-b646e30e480e",
   "metadata": {},
   "outputs": [
    {
     "data": {
      "text/plain": [
       "<AxesSubplot:xlabel='Interest_Rate', ylabel='Count'>"
      ]
     },
     "execution_count": 38,
     "metadata": {},
     "output_type": "execute_result"
    },
    {
     "data": {
      "image/png": "[encoded data removed]",
      "text/plain": [
       "<Figure size 640x480 with 1 Axes>"
      ]
     },
     "metadata": {},
     "output_type": "display_data"
    }
   ],
   "source": [
    "#JAKIE ODSETKI\n",
    "sns.histplot(df.Interest_Rate)"
   ]
  },
  {
   "cell_type": "code",
   "execution_count": 39,
   "id": "9e501ee7-23a5-4d51-bdce-e352df59950e",
   "metadata": {},
   "outputs": [
    {
     "data": {
      "text/plain": [
       "<AxesSubplot:xlabel='Interest_Rate', ylabel='Count'>"
      ]
     },
     "execution_count": 39,
     "metadata": {},
     "output_type": "execute_result"
    },
    {
     "data": {
      "image/png": "[encoded data removed]",
      "text/plain": [
       "<Figure size 640x480 with 1 Axes>"
      ]
     },
     "metadata": {},
     "output_type": "display_data"
    }
   ],
   "source": [
    "upper_lim = df.Interest_Rate.quantile(.97)\n",
    "lower_lim = df.Interest_Rate.quantile(.02)\n",
    "df.Interest_Rate = df.Interest_Rate[(df.Interest_Rate < upper_lim) & (df.Interest_Rate > lower_lim)]\n",
    "sns.histplot(df.Interest_Rate)"
   ]
  },
  {
   "cell_type": "code",
   "execution_count": 40,
   "id": "b829c3ce-d21c-4410-82f2-6df42f6d4142",
   "metadata": {},
   "outputs": [
    {
     "data": {
      "text/plain": [
       "<AxesSubplot:xlabel='Num_of_Loan', ylabel='Count'>"
      ]
     },
     "execution_count": 40,
     "metadata": {},
     "output_type": "execute_result"
    },
    {
     "data": {
      "image/png": "[encoded data removed]",
      "text/plain": [
       "<Figure size 640x480 with 1 Axes>"
      ]
     },
     "metadata": {},
     "output_type": "display_data"
    }
   ],
   "source": [
    "#ILE PORZYCZEK\n",
    "sns.histplot(df.Num_of_Loan)"
   ]
  },
  {
   "cell_type": "code",
   "execution_count": 41,
   "id": "5b2763c4-6577-4f39-9382-fb073cac319d",
   "metadata": {},
   "outputs": [
    {
     "data": {
      "text/plain": [
       "<AxesSubplot:xlabel='Num_of_Loan', ylabel='Count'>"
      ]
     },
     "execution_count": 41,
     "metadata": {},
     "output_type": "execute_result"
    },
    {
     "data": {
      "image/png": "[encoded data removed]",
      "text/plain": [
       "<Figure size 640x480 with 1 Axes>"
      ]
     },
     "metadata": {},
     "output_type": "display_data"
    }
   ],
   "source": [
    "upper_lim = df.Num_of_Loan.quantile(.99)\n",
    "lower_lim = df.Num_of_Loan.quantile(.00)\n",
    "df.Num_of_Loan = df.Num_of_Loan[(df.Num_of_Loan < upper_lim) & (df.Num_of_Loan > lower_lim)]\n",
    "sns.histplot(df.Num_of_Loan)"
   ]
  },
  {
   "cell_type": "code",
   "execution_count": 42,
   "id": "f0b8ed6d-6f06-4787-8c13-e66138087e99",
   "metadata": {},
   "outputs": [
    {
     "data": {
      "text/plain": [
       "<AxesSubplot:xlabel='Delay_from_due_date', ylabel='Count'>"
      ]
     },
     "execution_count": 42,
     "metadata": {},
     "output_type": "execute_result"
    },
    {
     "data": {
      "image/png": "[encoded data removed]",
      "text/plain": [
       "<Figure size 640x480 with 1 Axes>"
      ]
     },
     "metadata": {},
     "output_type": "display_data"
    }
   ],
   "source": [
    "#ŚREDNIA OBSÓWA\n",
    "sns.histplot(df.Delay_from_due_date)"
   ]
  },
  {
   "cell_type": "code",
   "execution_count": 43,
   "id": "dde98d73-e8f8-4300-9a5c-28c6fcea5825",
   "metadata": {},
   "outputs": [
    {
     "data": {
      "text/plain": [
       "<AxesSubplot:xlabel='Delay_from_due_date', ylabel='Count'>"
      ]
     },
     "execution_count": 43,
     "metadata": {},
     "output_type": "execute_result"
    },
    {
     "data": {
      "image/png": "[encoded data removed]",
      "text/plain": [
       "<Figure size 640x480 with 1 Axes>"
      ]
     },
     "metadata": {},
     "output_type": "display_data"
    }
   ],
   "source": [
    "upper_lim = df['Delay_from_due_date'].mean () + df['Delay_from_due_date'].std () * factor\n",
    "lower_lim = df['Delay_from_due_date'].mean () - df['Delay_from_due_date'].std () * factor\n",
    "df['Delay_from_due_date'] = np.where(df['Delay_from_due_date'] < upper_lim, df['Delay_from_due_date'], upper_lim)\n",
    "df['Delay_from_due_date'] = np.where(df['Delay_from_due_date'] > lower_lim, df['Delay_from_due_date'], lower_lim)\n",
    "sns.histplot(df.Delay_from_due_date)"
   ]
  },
  {
   "cell_type": "code",
   "execution_count": 44,
   "id": "5d09af0a-1bee-436c-8e6b-01d223270c36",
   "metadata": {},
   "outputs": [
    {
     "data": {
      "text/plain": [
       "<AxesSubplot:xlabel='Num_of_Delayed_Payment', ylabel='Count'>"
      ]
     },
     "execution_count": 44,
     "metadata": {},
     "output_type": "execute_result"
    },
    {
     "data": {
      "image/png": "[encoded data removed]",
      "text/plain": [
       "<Figure size 640x480 with 1 Axes>"
      ]
     },
     "metadata": {},
     "output_type": "display_data"
    }
   ],
   "source": [
    "#ILE OBSÓW\n",
    "sns.histplot(df.Num_of_Delayed_Payment)"
   ]
  },
  {
   "cell_type": "code",
   "execution_count": 45,
   "id": "3bd7cb51-0d2f-455b-8f62-3646e8216e10",
   "metadata": {},
   "outputs": [
    {
     "data": {
      "text/plain": [
       "<AxesSubplot:xlabel='Num_of_Delayed_Payment', ylabel='Count'>"
      ]
     },
     "execution_count": 45,
     "metadata": {},
     "output_type": "execute_result"
    },
    {
     "data": {
      "image/png": "[encoded data removed]",
      "text/plain": [
       "<Figure size 640x480 with 1 Axes>"
      ]
     },
     "metadata": {},
     "output_type": "display_data"
    }
   ],
   "source": [
    "upper_lim = df.Num_of_Delayed_Payment.quantile(.99)\n",
    "lower_lim = df.Num_of_Delayed_Payment.quantile(.01)\n",
    "df.Num_of_Delayed_Payment = df.Num_of_Delayed_Payment[(df.Num_of_Delayed_Payment < upper_lim) & (df.Num_of_Delayed_Payment > lower_lim)]\n",
    "sns.histplot(df.Num_of_Delayed_Payment)"
   ]
  },
  {
   "cell_type": "code",
   "execution_count": 46,
   "id": "7a29068e-79ea-484f-83e2-849bc321cc90",
   "metadata": {},
   "outputs": [
    {
     "data": {
      "text/plain": [
       "Index(['Month', 'Age', 'Occupation', 'Annual_Income', 'Monthly_Inhand_Salary',\n",
       "       'Num_Bank_Accounts', 'Num_Credit_Card', 'Interest_Rate', 'Num_of_Loan',\n",
       "       'Delay_from_due_date', 'Num_of_Delayed_Payment', 'Changed_Credit_Limit',\n",
       "       'Num_Credit_Inquiries', 'Credit_Mix', 'Outstanding_Debt',\n",
       "       'Credit_Utilization_Ratio', 'Credit_History_Age',\n",
       "       'Payment_of_Min_Amount', 'Total_EMI_per_month',\n",
       "       'Amount_invested_monthly', 'Monthly_Balance', 'Credit_Score', 'spent',\n",
       "       'payment_value', 'Auto Loan', 'Credit-Builder Loan',\n",
       "       'Debt Consolidation Loan', 'Home Equity Loan', 'Mortgage Loan',\n",
       "       'Not Specified', 'Payday Loan', 'Personal Loan', 'Student Loan'],\n",
       "      dtype='object')"
      ]
     },
     "execution_count": 46,
     "metadata": {},
     "output_type": "execute_result"
    }
   ],
   "source": [
    "df.columns"
   ]
  },
  {
   "cell_type": "code",
   "execution_count": 47,
   "id": "eb13b10f-8c8c-448d-997b-6f2ca4db8adb",
   "metadata": {},
   "outputs": [],
   "source": [
    "df.drop(columns=['Personal Loan','Student Loan','Payday Loan','Not Specified','Mortgage Loan', 'Home Equity Loan', \n",
    "                 'Debt Consolidation Loan', 'Credit-Builder Loan', 'Auto Loan' ], inplace=True)"
   ]
  },
  {
   "cell_type": "code",
   "execution_count": 51,
   "id": "6a840122-0ea0-4ee7-8e9b-40073ce8d10d",
   "metadata": {},
   "outputs": [
    {
     "name": "stdout",
     "output_type": "stream",
     "text": [
      "<class 'pandas.core.frame.DataFrame'>\n",
      "RangeIndex: 100000 entries, 0 to 99999\n",
      "Data columns (total 24 columns):\n",
      " #   Column                    Non-Null Count   Dtype  \n",
      "---  ------                    --------------   -----  \n",
      " 0   Month                     100000 non-null  int64  \n",
      " 1   Age                       96568 non-null   float64\n",
      " 2   Occupation                100000 non-null  object \n",
      " 3   Annual_Income             97993 non-null   float64\n",
      " 4   Monthly_Inhand_Salary     100000 non-null  float64\n",
      " 5   Num_Bank_Accounts         89101 non-null   float64\n",
      " 6   Num_Credit_Card           92820 non-null   float64\n",
      " 7   Interest_Rate             93781 non-null   float64\n",
      " 8   Num_of_Loan               84896 non-null   float64\n",
      " 9   Delay_from_due_date       100000 non-null  float64\n",
      " 10  Num_of_Delayed_Payment    96630 non-null   float64\n",
      " 11  Changed_Credit_Limit      100000 non-null  float64\n",
      " 12  Num_Credit_Inquiries      100000 non-null  float64\n",
      " 13  Credit_Mix                79805 non-null   float64\n",
      " 14  Outstanding_Debt          100000 non-null  float64\n",
      " 15  Credit_Utilization_Ratio  100000 non-null  float64\n",
      " 16  Credit_History_Age        100000 non-null  float64\n",
      " 17  Payment_of_Min_Amount     100000 non-null  int32  \n",
      " 18  Total_EMI_per_month       100000 non-null  float64\n",
      " 19  Amount_invested_monthly   100000 non-null  float64\n",
      " 20  Monthly_Balance           100000 non-null  float64\n",
      " 21  Credit_Score              100000 non-null  int64  \n",
      " 22  spent                     100000 non-null  int32  \n",
      " 23  payment_value             92400 non-null   float64\n",
      "dtypes: float64(19), int32(2), int64(2), object(1)\n",
      "memory usage: 17.5+ MB\n"
     ]
    }
   ],
   "source": [
    "df.info()"
   ]
  },
  {
   "cell_type": "code",
   "execution_count": 49,
   "id": "fffdf4a7-00c3-4c59-b44f-8fbddb98938a",
   "metadata": {},
   "outputs": [
    {
     "data": {
      "text/html": [
       "<div>\n",
       "<style scoped>\n",
       "    .dataframe tbody tr th:only-of-type {\n",
       "        vertical-align: middle;\n",
       "    }\n",
       "\n",
       "    .dataframe tbody tr th {\n",
       "        vertical-align: top;\n",
       "    }\n",
       "\n",
       "    .dataframe thead th {\n",
       "        text-align: right;\n",
       "    }\n",
       "</style>\n",
       "<table border=\"1\" class=\"dataframe\">\n",
       "  <thead>\n",
       "    <tr style=\"text-align: right;\">\n",
       "      <th></th>\n",
       "      <th>Month</th>\n",
       "      <th>Age</th>\n",
       "      <th>Annual_Income</th>\n",
       "      <th>Monthly_Inhand_Salary</th>\n",
       "      <th>Num_Bank_Accounts</th>\n",
       "      <th>Num_Credit_Card</th>\n",
       "      <th>Interest_Rate</th>\n",
       "      <th>Num_of_Loan</th>\n",
       "      <th>Delay_from_due_date</th>\n",
       "      <th>Num_of_Delayed_Payment</th>\n",
       "      <th>...</th>\n",
       "      <th>Outstanding_Debt</th>\n",
       "      <th>Credit_Utilization_Ratio</th>\n",
       "      <th>Credit_History_Age</th>\n",
       "      <th>Payment_of_Min_Amount</th>\n",
       "      <th>Total_EMI_per_month</th>\n",
       "      <th>Amount_invested_monthly</th>\n",
       "      <th>Monthly_Balance</th>\n",
       "      <th>Credit_Score</th>\n",
       "      <th>spent</th>\n",
       "      <th>payment_value</th>\n",
       "    </tr>\n",
       "  </thead>\n",
       "  <tbody>\n",
       "    <tr>\n",
       "      <th>Month</th>\n",
       "      <td>1.000000e+00</td>\n",
       "      <td>0.007167</td>\n",
       "      <td>0.000424</td>\n",
       "      <td>-0.002308</td>\n",
       "      <td>-0.000584</td>\n",
       "      <td>-0.000471</td>\n",
       "      <td>0.000329</td>\n",
       "      <td>-0.001518</td>\n",
       "      <td>0.000244</td>\n",
       "      <td>-0.000219</td>\n",
       "      <td>...</td>\n",
       "      <td>3.200578e-17</td>\n",
       "      <td>0.002440</td>\n",
       "      <td>0.021677</td>\n",
       "      <td>0.001287</td>\n",
       "      <td>0.001371</td>\n",
       "      <td>0.003094</td>\n",
       "      <td>-0.002602</td>\n",
       "      <td>0.016291</td>\n",
       "      <td>-0.004264</td>\n",
       "      <td>0.002736</td>\n",
       "    </tr>\n",
       "    <tr>\n",
       "      <th>Age</th>\n",
       "      <td>7.167127e-03</td>\n",
       "      <td>1.000000</td>\n",
       "      <td>0.081706</td>\n",
       "      <td>0.075247</td>\n",
       "      <td>-0.146074</td>\n",
       "      <td>-0.120275</td>\n",
       "      <td>-0.199351</td>\n",
       "      <td>-0.179865</td>\n",
       "      <td>-0.164447</td>\n",
       "      <td>-0.159486</td>\n",
       "      <td>...</td>\n",
       "      <td>-1.926262e-01</td>\n",
       "      <td>0.022956</td>\n",
       "      <td>0.212152</td>\n",
       "      <td>-0.153313</td>\n",
       "      <td>0.001419</td>\n",
       "      <td>0.049663</td>\n",
       "      <td>0.106909</td>\n",
       "      <td>0.149856</td>\n",
       "      <td>0.020723</td>\n",
       "      <td>-0.026805</td>\n",
       "    </tr>\n",
       "    <tr>\n",
       "      <th>Annual_Income</th>\n",
       "      <td>4.242501e-04</td>\n",
       "      <td>0.081706</td>\n",
       "      <td>1.000000</td>\n",
       "      <td>0.909120</td>\n",
       "      <td>-0.252558</td>\n",
       "      <td>-0.184554</td>\n",
       "      <td>-0.288011</td>\n",
       "      <td>-0.225516</td>\n",
       "      <td>-0.244677</td>\n",
       "      <td>-0.266833</td>\n",
       "      <td>...</td>\n",
       "      <td>-2.623345e-01</td>\n",
       "      <td>0.176074</td>\n",
       "      <td>0.255126</td>\n",
       "      <td>-0.191612</td>\n",
       "      <td>0.008474</td>\n",
       "      <td>0.585960</td>\n",
       "      <td>0.691765</td>\n",
       "      <td>0.206703</td>\n",
       "      <td>0.216546</td>\n",
       "      <td>-0.257561</td>\n",
       "    </tr>\n",
       "    <tr>\n",
       "      <th>Monthly_Inhand_Salary</th>\n",
       "      <td>-2.308274e-03</td>\n",
       "      <td>0.075247</td>\n",
       "      <td>0.909120</td>\n",
       "      <td>1.000000</td>\n",
       "      <td>-0.228340</td>\n",
       "      <td>-0.171754</td>\n",
       "      <td>-0.268956</td>\n",
       "      <td>-0.210675</td>\n",
       "      <td>-0.227481</td>\n",
       "      <td>-0.244059</td>\n",
       "      <td>...</td>\n",
       "      <td>-2.472384e-01</td>\n",
       "      <td>0.157500</td>\n",
       "      <td>0.238792</td>\n",
       "      <td>-0.175305</td>\n",
       "      <td>0.006857</td>\n",
       "      <td>0.541884</td>\n",
       "      <td>0.627376</td>\n",
       "      <td>0.190652</td>\n",
       "      <td>0.203752</td>\n",
       "      <td>-0.237941</td>\n",
       "    </tr>\n",
       "    <tr>\n",
       "      <th>Num_Bank_Accounts</th>\n",
       "      <td>-5.838440e-04</td>\n",
       "      <td>-0.146074</td>\n",
       "      <td>-0.252558</td>\n",
       "      <td>-0.228340</td>\n",
       "      <td>1.000000</td>\n",
       "      <td>0.355735</td>\n",
       "      <td>0.515043</td>\n",
       "      <td>0.380314</td>\n",
       "      <td>0.514791</td>\n",
       "      <td>0.511776</td>\n",
       "      <td>...</td>\n",
       "      <td>4.516787e-01</td>\n",
       "      <td>-0.062512</td>\n",
       "      <td>-0.406577</td>\n",
       "      <td>0.324466</td>\n",
       "      <td>-0.004441</td>\n",
       "      <td>-0.156306</td>\n",
       "      <td>-0.261962</td>\n",
       "      <td>-0.359790</td>\n",
       "      <td>-0.057597</td>\n",
       "      <td>0.063265</td>\n",
       "    </tr>\n",
       "    <tr>\n",
       "      <th>Num_Credit_Card</th>\n",
       "      <td>-4.708747e-04</td>\n",
       "      <td>-0.120275</td>\n",
       "      <td>-0.184554</td>\n",
       "      <td>-0.171754</td>\n",
       "      <td>0.355735</td>\n",
       "      <td>1.000000</td>\n",
       "      <td>0.442534</td>\n",
       "      <td>0.340876</td>\n",
       "      <td>0.430829</td>\n",
       "      <td>0.366557</td>\n",
       "      <td>...</td>\n",
       "      <td>4.381379e-01</td>\n",
       "      <td>-0.049417</td>\n",
       "      <td>-0.350080</td>\n",
       "      <td>0.237351</td>\n",
       "      <td>-0.004982</td>\n",
       "      <td>-0.115864</td>\n",
       "      <td>-0.204534</td>\n",
       "      <td>-0.376941</td>\n",
       "      <td>-0.040625</td>\n",
       "      <td>0.053873</td>\n",
       "    </tr>\n",
       "    <tr>\n",
       "      <th>Interest_Rate</th>\n",
       "      <td>3.289148e-04</td>\n",
       "      <td>-0.199351</td>\n",
       "      <td>-0.288011</td>\n",
       "      <td>-0.268956</td>\n",
       "      <td>0.515043</td>\n",
       "      <td>0.442534</td>\n",
       "      <td>1.000000</td>\n",
       "      <td>0.492731</td>\n",
       "      <td>0.579100</td>\n",
       "      <td>0.526822</td>\n",
       "      <td>...</td>\n",
       "      <td>6.235735e-01</td>\n",
       "      <td>-0.074122</td>\n",
       "      <td>-0.541677</td>\n",
       "      <td>0.375980</td>\n",
       "      <td>-0.005214</td>\n",
       "      <td>-0.179369</td>\n",
       "      <td>-0.317622</td>\n",
       "      <td>-0.479337</td>\n",
       "      <td>-0.071541</td>\n",
       "      <td>0.086180</td>\n",
       "    </tr>\n",
       "    <tr>\n",
       "      <th>Num_of_Loan</th>\n",
       "      <td>-1.518216e-03</td>\n",
       "      <td>-0.179865</td>\n",
       "      <td>-0.225516</td>\n",
       "      <td>-0.210675</td>\n",
       "      <td>0.380314</td>\n",
       "      <td>0.340876</td>\n",
       "      <td>0.492731</td>\n",
       "      <td>1.000000</td>\n",
       "      <td>0.445322</td>\n",
       "      <td>0.400354</td>\n",
       "      <td>...</td>\n",
       "      <td>5.812997e-01</td>\n",
       "      <td>-0.078804</td>\n",
       "      <td>-0.537102</td>\n",
       "      <td>0.298418</td>\n",
       "      <td>0.002220</td>\n",
       "      <td>-0.142710</td>\n",
       "      <td>-0.371776</td>\n",
       "      <td>-0.327446</td>\n",
       "      <td>-0.051763</td>\n",
       "      <td>0.069387</td>\n",
       "    </tr>\n",
       "    <tr>\n",
       "      <th>Delay_from_due_date</th>\n",
       "      <td>2.438205e-04</td>\n",
       "      <td>-0.164447</td>\n",
       "      <td>-0.244677</td>\n",
       "      <td>-0.227481</td>\n",
       "      <td>0.514791</td>\n",
       "      <td>0.430829</td>\n",
       "      <td>0.579100</td>\n",
       "      <td>0.445322</td>\n",
       "      <td>1.000000</td>\n",
       "      <td>0.509455</td>\n",
       "      <td>...</td>\n",
       "      <td>5.717310e-01</td>\n",
       "      <td>-0.063803</td>\n",
       "      <td>-0.469982</td>\n",
       "      <td>0.316223</td>\n",
       "      <td>-0.003886</td>\n",
       "      <td>-0.153159</td>\n",
       "      <td>-0.277524</td>\n",
       "      <td>-0.431602</td>\n",
       "      <td>-0.061840</td>\n",
       "      <td>0.071673</td>\n",
       "    </tr>\n",
       "    <tr>\n",
       "      <th>Num_of_Delayed_Payment</th>\n",
       "      <td>-2.186365e-04</td>\n",
       "      <td>-0.159486</td>\n",
       "      <td>-0.266833</td>\n",
       "      <td>-0.244059</td>\n",
       "      <td>0.511776</td>\n",
       "      <td>0.366557</td>\n",
       "      <td>0.526822</td>\n",
       "      <td>0.400354</td>\n",
       "      <td>0.509455</td>\n",
       "      <td>1.000000</td>\n",
       "      <td>...</td>\n",
       "      <td>4.821500e-01</td>\n",
       "      <td>-0.070861</td>\n",
       "      <td>-0.434355</td>\n",
       "      <td>0.339502</td>\n",
       "      <td>-0.003743</td>\n",
       "      <td>-0.161402</td>\n",
       "      <td>-0.287009</td>\n",
       "      <td>-0.346213</td>\n",
       "      <td>-0.066556</td>\n",
       "      <td>0.075044</td>\n",
       "    </tr>\n",
       "    <tr>\n",
       "      <th>Changed_Credit_Limit</th>\n",
       "      <td>-5.645156e-04</td>\n",
       "      <td>-0.144966</td>\n",
       "      <td>-0.168871</td>\n",
       "      <td>-0.156292</td>\n",
       "      <td>0.291393</td>\n",
       "      <td>0.226792</td>\n",
       "      <td>0.354574</td>\n",
       "      <td>0.342007</td>\n",
       "      <td>0.294029</td>\n",
       "      <td>0.301439</td>\n",
       "      <td>...</td>\n",
       "      <td>4.604480e-01</td>\n",
       "      <td>-0.047821</td>\n",
       "      <td>-0.403609</td>\n",
       "      <td>0.310416</td>\n",
       "      <td>-0.001998</td>\n",
       "      <td>-0.105546</td>\n",
       "      <td>-0.201685</td>\n",
       "      <td>-0.167292</td>\n",
       "      <td>-0.037264</td>\n",
       "      <td>0.048906</td>\n",
       "    </tr>\n",
       "    <tr>\n",
       "      <th>Num_Credit_Inquiries</th>\n",
       "      <td>4.824998e-03</td>\n",
       "      <td>-0.006639</td>\n",
       "      <td>-0.009045</td>\n",
       "      <td>-0.007811</td>\n",
       "      <td>0.008795</td>\n",
       "      <td>0.007557</td>\n",
       "      <td>0.015009</td>\n",
       "      <td>0.011944</td>\n",
       "      <td>0.011415</td>\n",
       "      <td>0.012143</td>\n",
       "      <td>...</td>\n",
       "      <td>1.328092e-02</td>\n",
       "      <td>0.000169</td>\n",
       "      <td>-0.013603</td>\n",
       "      <td>0.010766</td>\n",
       "      <td>-0.006968</td>\n",
       "      <td>-0.007115</td>\n",
       "      <td>-0.004919</td>\n",
       "      <td>-0.011124</td>\n",
       "      <td>-0.008976</td>\n",
       "      <td>0.005616</td>\n",
       "    </tr>\n",
       "    <tr>\n",
       "      <th>Credit_Mix</th>\n",
       "      <td>2.250837e-03</td>\n",
       "      <td>0.228941</td>\n",
       "      <td>0.336414</td>\n",
       "      <td>0.309721</td>\n",
       "      <td>-0.667959</td>\n",
       "      <td>-0.499209</td>\n",
       "      <td>-0.742942</td>\n",
       "      <td>-0.577821</td>\n",
       "      <td>-0.689272</td>\n",
       "      <td>-0.715611</td>\n",
       "      <td>...</td>\n",
       "      <td>-6.894852e-01</td>\n",
       "      <td>0.091743</td>\n",
       "      <td>0.612675</td>\n",
       "      <td>-0.479327</td>\n",
       "      <td>0.005579</td>\n",
       "      <td>0.206732</td>\n",
       "      <td>0.372475</td>\n",
       "      <td>0.499396</td>\n",
       "      <td>0.080226</td>\n",
       "      <td>-0.093497</td>\n",
       "    </tr>\n",
       "    <tr>\n",
       "      <th>Outstanding_Debt</th>\n",
       "      <td>3.200578e-17</td>\n",
       "      <td>-0.192626</td>\n",
       "      <td>-0.262335</td>\n",
       "      <td>-0.247238</td>\n",
       "      <td>0.451679</td>\n",
       "      <td>0.438138</td>\n",
       "      <td>0.623573</td>\n",
       "      <td>0.581300</td>\n",
       "      <td>0.571731</td>\n",
       "      <td>0.482150</td>\n",
       "      <td>...</td>\n",
       "      <td>1.000000e+00</td>\n",
       "      <td>-0.071165</td>\n",
       "      <td>-0.600477</td>\n",
       "      <td>0.305598</td>\n",
       "      <td>-0.004856</td>\n",
       "      <td>-0.162745</td>\n",
       "      <td>-0.312815</td>\n",
       "      <td>-0.386525</td>\n",
       "      <td>-0.069021</td>\n",
       "      <td>0.085662</td>\n",
       "    </tr>\n",
       "    <tr>\n",
       "      <th>Credit_Utilization_Ratio</th>\n",
       "      <td>2.439924e-03</td>\n",
       "      <td>0.022956</td>\n",
       "      <td>0.176074</td>\n",
       "      <td>0.157500</td>\n",
       "      <td>-0.062512</td>\n",
       "      <td>-0.049417</td>\n",
       "      <td>-0.074122</td>\n",
       "      <td>-0.078804</td>\n",
       "      <td>-0.063803</td>\n",
       "      <td>-0.070861</td>\n",
       "      <td>...</td>\n",
       "      <td>-7.116478e-02</td>\n",
       "      <td>1.000000</td>\n",
       "      <td>0.070529</td>\n",
       "      <td>-0.049980</td>\n",
       "      <td>0.001389</td>\n",
       "      <td>-0.014804</td>\n",
       "      <td>0.251294</td>\n",
       "      <td>0.045793</td>\n",
       "      <td>0.106892</td>\n",
       "      <td>-0.089880</td>\n",
       "    </tr>\n",
       "    <tr>\n",
       "      <th>Credit_History_Age</th>\n",
       "      <td>2.167653e-02</td>\n",
       "      <td>0.212152</td>\n",
       "      <td>0.255126</td>\n",
       "      <td>0.238792</td>\n",
       "      <td>-0.406577</td>\n",
       "      <td>-0.350080</td>\n",
       "      <td>-0.541677</td>\n",
       "      <td>-0.537102</td>\n",
       "      <td>-0.469982</td>\n",
       "      <td>-0.434355</td>\n",
       "      <td>...</td>\n",
       "      <td>-6.004766e-01</td>\n",
       "      <td>0.070529</td>\n",
       "      <td>1.000000</td>\n",
       "      <td>-0.354496</td>\n",
       "      <td>0.003653</td>\n",
       "      <td>0.158128</td>\n",
       "      <td>0.308430</td>\n",
       "      <td>0.371374</td>\n",
       "      <td>0.061292</td>\n",
       "      <td>-0.081663</td>\n",
       "    </tr>\n",
       "    <tr>\n",
       "      <th>Payment_of_Min_Amount</th>\n",
       "      <td>1.287200e-03</td>\n",
       "      <td>-0.153313</td>\n",
       "      <td>-0.191612</td>\n",
       "      <td>-0.175305</td>\n",
       "      <td>0.324466</td>\n",
       "      <td>0.237351</td>\n",
       "      <td>0.375980</td>\n",
       "      <td>0.298418</td>\n",
       "      <td>0.316223</td>\n",
       "      <td>0.339502</td>\n",
       "      <td>...</td>\n",
       "      <td>3.055975e-01</td>\n",
       "      <td>-0.049980</td>\n",
       "      <td>-0.354496</td>\n",
       "      <td>1.000000</td>\n",
       "      <td>-0.003761</td>\n",
       "      <td>-0.117310</td>\n",
       "      <td>-0.208903</td>\n",
       "      <td>-0.278127</td>\n",
       "      <td>-0.045417</td>\n",
       "      <td>0.051451</td>\n",
       "    </tr>\n",
       "    <tr>\n",
       "      <th>Total_EMI_per_month</th>\n",
       "      <td>1.370578e-03</td>\n",
       "      <td>0.001419</td>\n",
       "      <td>0.008474</td>\n",
       "      <td>0.006857</td>\n",
       "      <td>-0.004441</td>\n",
       "      <td>-0.004982</td>\n",
       "      <td>-0.005214</td>\n",
       "      <td>0.002220</td>\n",
       "      <td>-0.003886</td>\n",
       "      <td>-0.003743</td>\n",
       "      <td>...</td>\n",
       "      <td>-4.856430e-03</td>\n",
       "      <td>0.001389</td>\n",
       "      <td>0.003653</td>\n",
       "      <td>-0.003761</td>\n",
       "      <td>1.000000</td>\n",
       "      <td>0.006280</td>\n",
       "      <td>0.002537</td>\n",
       "      <td>0.004382</td>\n",
       "      <td>0.002185</td>\n",
       "      <td>-0.005791</td>\n",
       "    </tr>\n",
       "    <tr>\n",
       "      <th>Amount_invested_monthly</th>\n",
       "      <td>3.093829e-03</td>\n",
       "      <td>0.049663</td>\n",
       "      <td>0.585960</td>\n",
       "      <td>0.541884</td>\n",
       "      <td>-0.156306</td>\n",
       "      <td>-0.115864</td>\n",
       "      <td>-0.179369</td>\n",
       "      <td>-0.142710</td>\n",
       "      <td>-0.153159</td>\n",
       "      <td>-0.161402</td>\n",
       "      <td>...</td>\n",
       "      <td>-1.627451e-01</td>\n",
       "      <td>-0.014804</td>\n",
       "      <td>0.158128</td>\n",
       "      <td>-0.117310</td>\n",
       "      <td>0.006280</td>\n",
       "      <td>1.000000</td>\n",
       "      <td>-0.031144</td>\n",
       "      <td>0.147140</td>\n",
       "      <td>-0.259827</td>\n",
       "      <td>0.111530</td>\n",
       "    </tr>\n",
       "    <tr>\n",
       "      <th>Monthly_Balance</th>\n",
       "      <td>-2.602322e-03</td>\n",
       "      <td>0.106909</td>\n",
       "      <td>0.691765</td>\n",
       "      <td>0.627376</td>\n",
       "      <td>-0.261962</td>\n",
       "      <td>-0.204534</td>\n",
       "      <td>-0.317622</td>\n",
       "      <td>-0.371776</td>\n",
       "      <td>-0.277524</td>\n",
       "      <td>-0.287009</td>\n",
       "      <td>...</td>\n",
       "      <td>-3.128151e-01</td>\n",
       "      <td>0.251294</td>\n",
       "      <td>0.308430</td>\n",
       "      <td>-0.208903</td>\n",
       "      <td>0.002537</td>\n",
       "      <td>-0.031144</td>\n",
       "      <td>1.000000</td>\n",
       "      <td>0.203042</td>\n",
       "      <td>0.429829</td>\n",
       "      <td>-0.363790</td>\n",
       "    </tr>\n",
       "    <tr>\n",
       "      <th>Credit_Score</th>\n",
       "      <td>1.629078e-02</td>\n",
       "      <td>0.149856</td>\n",
       "      <td>0.206703</td>\n",
       "      <td>0.190652</td>\n",
       "      <td>-0.359790</td>\n",
       "      <td>-0.376941</td>\n",
       "      <td>-0.479337</td>\n",
       "      <td>-0.327446</td>\n",
       "      <td>-0.431602</td>\n",
       "      <td>-0.346213</td>\n",
       "      <td>...</td>\n",
       "      <td>-3.865247e-01</td>\n",
       "      <td>0.045793</td>\n",
       "      <td>0.371374</td>\n",
       "      <td>-0.278127</td>\n",
       "      <td>0.004382</td>\n",
       "      <td>0.147140</td>\n",
       "      <td>0.203042</td>\n",
       "      <td>1.000000</td>\n",
       "      <td>0.090932</td>\n",
       "      <td>-0.091093</td>\n",
       "    </tr>\n",
       "    <tr>\n",
       "      <th>spent</th>\n",
       "      <td>-4.264012e-03</td>\n",
       "      <td>0.020723</td>\n",
       "      <td>0.216546</td>\n",
       "      <td>0.203752</td>\n",
       "      <td>-0.057597</td>\n",
       "      <td>-0.040625</td>\n",
       "      <td>-0.071541</td>\n",
       "      <td>-0.051763</td>\n",
       "      <td>-0.061840</td>\n",
       "      <td>-0.066556</td>\n",
       "      <td>...</td>\n",
       "      <td>-6.902094e-02</td>\n",
       "      <td>0.106892</td>\n",
       "      <td>0.061292</td>\n",
       "      <td>-0.045417</td>\n",
       "      <td>0.002185</td>\n",
       "      <td>-0.259827</td>\n",
       "      <td>0.429829</td>\n",
       "      <td>0.090932</td>\n",
       "      <td>1.000000</td>\n",
       "      <td>-0.223393</td>\n",
       "    </tr>\n",
       "    <tr>\n",
       "      <th>payment_value</th>\n",
       "      <td>2.735525e-03</td>\n",
       "      <td>-0.026805</td>\n",
       "      <td>-0.257561</td>\n",
       "      <td>-0.237941</td>\n",
       "      <td>0.063265</td>\n",
       "      <td>0.053873</td>\n",
       "      <td>0.086180</td>\n",
       "      <td>0.069387</td>\n",
       "      <td>0.071673</td>\n",
       "      <td>0.075044</td>\n",
       "      <td>...</td>\n",
       "      <td>8.566238e-02</td>\n",
       "      <td>-0.089880</td>\n",
       "      <td>-0.081663</td>\n",
       "      <td>0.051451</td>\n",
       "      <td>-0.005791</td>\n",
       "      <td>0.111530</td>\n",
       "      <td>-0.363790</td>\n",
       "      <td>-0.091093</td>\n",
       "      <td>-0.223393</td>\n",
       "      <td>1.000000</td>\n",
       "    </tr>\n",
       "  </tbody>\n",
       "</table>\n",
       "<p>23 rows × 23 columns</p>\n",
       "</div>"
      ],
      "text/plain": [
       "                                 Month       Age  Annual_Income  \\\n",
       "Month                     1.000000e+00  0.007167       0.000424   \n",
       "Age                       7.167127e-03  1.000000       0.081706   \n",
       "Annual_Income             4.242501e-04  0.081706       1.000000   \n",
       "Monthly_Inhand_Salary    -2.308274e-03  0.075247       0.909120   \n",
       "Num_Bank_Accounts        -5.838440e-04 -0.146074      -0.252558   \n",
       "Num_Credit_Card          -4.708747e-04 -0.120275      -0.184554   \n",
       "Interest_Rate             3.289148e-04 -0.199351      -0.288011   \n",
       "Num_of_Loan              -1.518216e-03 -0.179865      -0.225516   \n",
       "Delay_from_due_date       2.438205e-04 -0.164447      -0.244677   \n",
       "Num_of_Delayed_Payment   -2.186365e-04 -0.159486      -0.266833   \n",
       "Changed_Credit_Limit     -5.645156e-04 -0.144966      -0.168871   \n",
       "Num_Credit_Inquiries      4.824998e-03 -0.006639      -0.009045   \n",
       "Credit_Mix                2.250837e-03  0.228941       0.336414   \n",
       "Outstanding_Debt          3.200578e-17 -0.192626      -0.262335   \n",
       "Credit_Utilization_Ratio  2.439924e-03  0.022956       0.176074   \n",
       "Credit_History_Age        2.167653e-02  0.212152       0.255126   \n",
       "Payment_of_Min_Amount     1.287200e-03 -0.153313      -0.191612   \n",
       "Total_EMI_per_month       1.370578e-03  0.001419       0.008474   \n",
       "Amount_invested_monthly   3.093829e-03  0.049663       0.585960   \n",
       "Monthly_Balance          -2.602322e-03  0.106909       0.691765   \n",
       "Credit_Score              1.629078e-02  0.149856       0.206703   \n",
       "spent                    -4.264012e-03  0.020723       0.216546   \n",
       "payment_value             2.735525e-03 -0.026805      -0.257561   \n",
       "\n",
       "                          Monthly_Inhand_Salary  Num_Bank_Accounts  \\\n",
       "Month                                 -0.002308          -0.000584   \n",
       "Age                                    0.075247          -0.146074   \n",
       "Annual_Income                          0.909120          -0.252558   \n",
       "Monthly_Inhand_Salary                  1.000000          -0.228340   \n",
       "Num_Bank_Accounts                     -0.228340           1.000000   \n",
       "Num_Credit_Card                       -0.171754           0.355735   \n",
       "Interest_Rate                         -0.268956           0.515043   \n",
       "Num_of_Loan                           -0.210675           0.380314   \n",
       "Delay_from_due_date                   -0.227481           0.514791   \n",
       "Num_of_Delayed_Payment                -0.244059           0.511776   \n",
       "Changed_Credit_Limit                  -0.156292           0.291393   \n",
       "Num_Credit_Inquiries                  -0.007811           0.008795   \n",
       "Credit_Mix                             0.309721          -0.667959   \n",
       "Outstanding_Debt                      -0.247238           0.451679   \n",
       "Credit_Utilization_Ratio               0.157500          -0.062512   \n",
       "Credit_History_Age                     0.238792          -0.406577   \n",
       "Payment_of_Min_Amount                 -0.175305           0.324466   \n",
       "Total_EMI_per_month                    0.006857          -0.004441   \n",
       "Amount_invested_monthly                0.541884          -0.156306   \n",
       "Monthly_Balance                        0.627376          -0.261962   \n",
       "Credit_Score                           0.190652          -0.359790   \n",
       "spent                                  0.203752          -0.057597   \n",
       "payment_value                         -0.237941           0.063265   \n",
       "\n",
       "                          Num_Credit_Card  Interest_Rate  Num_of_Loan  \\\n",
       "Month                           -0.000471       0.000329    -0.001518   \n",
       "Age                             -0.120275      -0.199351    -0.179865   \n",
       "Annual_Income                   -0.184554      -0.288011    -0.225516   \n",
       "Monthly_Inhand_Salary           -0.171754      -0.268956    -0.210675   \n",
       "Num_Bank_Accounts                0.355735       0.515043     0.380314   \n",
       "Num_Credit_Card                  1.000000       0.442534     0.340876   \n",
       "Interest_Rate                    0.442534       1.000000     0.492731   \n",
       "Num_of_Loan                      0.340876       0.492731     1.000000   \n",
       "Delay_from_due_date              0.430829       0.579100     0.445322   \n",
       "Num_of_Delayed_Payment           0.366557       0.526822     0.400354   \n",
       "Changed_Credit_Limit             0.226792       0.354574     0.342007   \n",
       "Num_Credit_Inquiries             0.007557       0.015009     0.011944   \n",
       "Credit_Mix                      -0.499209      -0.742942    -0.577821   \n",
       "Outstanding_Debt                 0.438138       0.623573     0.581300   \n",
       "Credit_Utilization_Ratio        -0.049417      -0.074122    -0.078804   \n",
       "Credit_History_Age              -0.350080      -0.541677    -0.537102   \n",
       "Payment_of_Min_Amount            0.237351       0.375980     0.298418   \n",
       "Total_EMI_per_month             -0.004982      -0.005214     0.002220   \n",
       "Amount_invested_monthly         -0.115864      -0.179369    -0.142710   \n",
       "Monthly_Balance                 -0.204534      -0.317622    -0.371776   \n",
       "Credit_Score                    -0.376941      -0.479337    -0.327446   \n",
       "spent                           -0.040625      -0.071541    -0.051763   \n",
       "payment_value                    0.053873       0.086180     0.069387   \n",
       "\n",
       "                          Delay_from_due_date  Num_of_Delayed_Payment  ...  \\\n",
       "Month                                0.000244               -0.000219  ...   \n",
       "Age                                 -0.164447               -0.159486  ...   \n",
       "Annual_Income                       -0.244677               -0.266833  ...   \n",
       "Monthly_Inhand_Salary               -0.227481               -0.244059  ...   \n",
       "Num_Bank_Accounts                    0.514791                0.511776  ...   \n",
       "Num_Credit_Card                      0.430829                0.366557  ...   \n",
       "Interest_Rate                        0.579100                0.526822  ...   \n",
       "Num_of_Loan                          0.445322                0.400354  ...   \n",
       "Delay_from_due_date                  1.000000                0.509455  ...   \n",
       "Num_of_Delayed_Payment               0.509455                1.000000  ...   \n",
       "Changed_Credit_Limit                 0.294029                0.301439  ...   \n",
       "Num_Credit_Inquiries                 0.011415                0.012143  ...   \n",
       "Credit_Mix                          -0.689272               -0.715611  ...   \n",
       "Outstanding_Debt                     0.571731                0.482150  ...   \n",
       "Credit_Utilization_Ratio            -0.063803               -0.070861  ...   \n",
       "Credit_History_Age                  -0.469982               -0.434355  ...   \n",
       "Payment_of_Min_Amount                0.316223                0.339502  ...   \n",
       "Total_EMI_per_month                 -0.003886               -0.003743  ...   \n",
       "Amount_invested_monthly             -0.153159               -0.161402  ...   \n",
       "Monthly_Balance                     -0.277524               -0.287009  ...   \n",
       "Credit_Score                        -0.431602               -0.346213  ...   \n",
       "spent                               -0.061840               -0.066556  ...   \n",
       "payment_value                        0.071673                0.075044  ...   \n",
       "\n",
       "                          Outstanding_Debt  Credit_Utilization_Ratio  \\\n",
       "Month                         3.200578e-17                  0.002440   \n",
       "Age                          -1.926262e-01                  0.022956   \n",
       "Annual_Income                -2.623345e-01                  0.176074   \n",
       "Monthly_Inhand_Salary        -2.472384e-01                  0.157500   \n",
       "Num_Bank_Accounts             4.516787e-01                 -0.062512   \n",
       "Num_Credit_Card               4.381379e-01                 -0.049417   \n",
       "Interest_Rate                 6.235735e-01                 -0.074122   \n",
       "Num_of_Loan                   5.812997e-01                 -0.078804   \n",
       "Delay_from_due_date           5.717310e-01                 -0.063803   \n",
       "Num_of_Delayed_Payment        4.821500e-01                 -0.070861   \n",
       "Changed_Credit_Limit          4.604480e-01                 -0.047821   \n",
       "Num_Credit_Inquiries          1.328092e-02                  0.000169   \n",
       "Credit_Mix                   -6.894852e-01                  0.091743   \n",
       "Outstanding_Debt              1.000000e+00                 -0.071165   \n",
       "Credit_Utilization_Ratio     -7.116478e-02                  1.000000   \n",
       "Credit_History_Age           -6.004766e-01                  0.070529   \n",
       "Payment_of_Min_Amount         3.055975e-01                 -0.049980   \n",
       "Total_EMI_per_month          -4.856430e-03                  0.001389   \n",
       "Amount_invested_monthly      -1.627451e-01                 -0.014804   \n",
       "Monthly_Balance              -3.128151e-01                  0.251294   \n",
       "Credit_Score                 -3.865247e-01                  0.045793   \n",
       "spent                        -6.902094e-02                  0.106892   \n",
       "payment_value                 8.566238e-02                 -0.089880   \n",
       "\n",
       "                          Credit_History_Age  Payment_of_Min_Amount  \\\n",
       "Month                               0.021677               0.001287   \n",
       "Age                                 0.212152              -0.153313   \n",
       "Annual_Income                       0.255126              -0.191612   \n",
       "Monthly_Inhand_Salary               0.238792              -0.175305   \n",
       "Num_Bank_Accounts                  -0.406577               0.324466   \n",
       "Num_Credit_Card                    -0.350080               0.237351   \n",
       "Interest_Rate                      -0.541677               0.375980   \n",
       "Num_of_Loan                        -0.537102               0.298418   \n",
       "Delay_from_due_date                -0.469982               0.316223   \n",
       "Num_of_Delayed_Payment             -0.434355               0.339502   \n",
       "Changed_Credit_Limit               -0.403609               0.310416   \n",
       "Num_Credit_Inquiries               -0.013603               0.010766   \n",
       "Credit_Mix                          0.612675              -0.479327   \n",
       "Outstanding_Debt                   -0.600477               0.305598   \n",
       "Credit_Utilization_Ratio            0.070529              -0.049980   \n",
       "Credit_History_Age                  1.000000              -0.354496   \n",
       "Payment_of_Min_Amount              -0.354496               1.000000   \n",
       "Total_EMI_per_month                 0.003653              -0.003761   \n",
       "Amount_invested_monthly             0.158128              -0.117310   \n",
       "Monthly_Balance                     0.308430              -0.208903   \n",
       "Credit_Score                        0.371374              -0.278127   \n",
       "spent                               0.061292              -0.045417   \n",
       "payment_value                      -0.081663               0.051451   \n",
       "\n",
       "                          Total_EMI_per_month  Amount_invested_monthly  \\\n",
       "Month                                0.001371                 0.003094   \n",
       "Age                                  0.001419                 0.049663   \n",
       "Annual_Income                        0.008474                 0.585960   \n",
       "Monthly_Inhand_Salary                0.006857                 0.541884   \n",
       "Num_Bank_Accounts                   -0.004441                -0.156306   \n",
       "Num_Credit_Card                     -0.004982                -0.115864   \n",
       "Interest_Rate                       -0.005214                -0.179369   \n",
       "Num_of_Loan                          0.002220                -0.142710   \n",
       "Delay_from_due_date                 -0.003886                -0.153159   \n",
       "Num_of_Delayed_Payment              -0.003743                -0.161402   \n",
       "Changed_Credit_Limit                -0.001998                -0.105546   \n",
       "Num_Credit_Inquiries                -0.006968                -0.007115   \n",
       "Credit_Mix                           0.005579                 0.206732   \n",
       "Outstanding_Debt                    -0.004856                -0.162745   \n",
       "Credit_Utilization_Ratio             0.001389                -0.014804   \n",
       "Credit_History_Age                   0.003653                 0.158128   \n",
       "Payment_of_Min_Amount               -0.003761                -0.117310   \n",
       "Total_EMI_per_month                  1.000000                 0.006280   \n",
       "Amount_invested_monthly              0.006280                 1.000000   \n",
       "Monthly_Balance                      0.002537                -0.031144   \n",
       "Credit_Score                         0.004382                 0.147140   \n",
       "spent                                0.002185                -0.259827   \n",
       "payment_value                       -0.005791                 0.111530   \n",
       "\n",
       "                          Monthly_Balance  Credit_Score     spent  \\\n",
       "Month                           -0.002602      0.016291 -0.004264   \n",
       "Age                              0.106909      0.149856  0.020723   \n",
       "Annual_Income                    0.691765      0.206703  0.216546   \n",
       "Monthly_Inhand_Salary            0.627376      0.190652  0.203752   \n",
       "Num_Bank_Accounts               -0.261962     -0.359790 -0.057597   \n",
       "Num_Credit_Card                 -0.204534     -0.376941 -0.040625   \n",
       "Interest_Rate                   -0.317622     -0.479337 -0.071541   \n",
       "Num_of_Loan                     -0.371776     -0.327446 -0.051763   \n",
       "Delay_from_due_date             -0.277524     -0.431602 -0.061840   \n",
       "Num_of_Delayed_Payment          -0.287009     -0.346213 -0.066556   \n",
       "Changed_Credit_Limit            -0.201685     -0.167292 -0.037264   \n",
       "Num_Credit_Inquiries            -0.004919     -0.011124 -0.008976   \n",
       "Credit_Mix                       0.372475      0.499396  0.080226   \n",
       "Outstanding_Debt                -0.312815     -0.386525 -0.069021   \n",
       "Credit_Utilization_Ratio         0.251294      0.045793  0.106892   \n",
       "Credit_History_Age               0.308430      0.371374  0.061292   \n",
       "Payment_of_Min_Amount           -0.208903     -0.278127 -0.045417   \n",
       "Total_EMI_per_month              0.002537      0.004382  0.002185   \n",
       "Amount_invested_monthly         -0.031144      0.147140 -0.259827   \n",
       "Monthly_Balance                  1.000000      0.203042  0.429829   \n",
       "Credit_Score                     0.203042      1.000000  0.090932   \n",
       "spent                            0.429829      0.090932  1.000000   \n",
       "payment_value                   -0.363790     -0.091093 -0.223393   \n",
       "\n",
       "                          payment_value  \n",
       "Month                          0.002736  \n",
       "Age                           -0.026805  \n",
       "Annual_Income                 -0.257561  \n",
       "Monthly_Inhand_Salary         -0.237941  \n",
       "Num_Bank_Accounts              0.063265  \n",
       "Num_Credit_Card                0.053873  \n",
       "Interest_Rate                  0.086180  \n",
       "Num_of_Loan                    0.069387  \n",
       "Delay_from_due_date            0.071673  \n",
       "Num_of_Delayed_Payment         0.075044  \n",
       "Changed_Credit_Limit           0.048906  \n",
       "Num_Credit_Inquiries           0.005616  \n",
       "Credit_Mix                    -0.093497  \n",
       "Outstanding_Debt               0.085662  \n",
       "Credit_Utilization_Ratio      -0.089880  \n",
       "Credit_History_Age            -0.081663  \n",
       "Payment_of_Min_Amount          0.051451  \n",
       "Total_EMI_per_month           -0.005791  \n",
       "Amount_invested_monthly        0.111530  \n",
       "Monthly_Balance               -0.363790  \n",
       "Credit_Score                  -0.091093  \n",
       "spent                         -0.223393  \n",
       "payment_value                  1.000000  \n",
       "\n",
       "[23 rows x 23 columns]"
      ]
     },
     "execution_count": 49,
     "metadata": {},
     "output_type": "execute_result"
    }
   ],
   "source": [
    "df.corr()"
   ]
  },
  {
   "cell_type": "code",
   "execution_count": 50,
   "id": "87082a7f-bb6a-44d3-9ee3-a64f6a13c685",
   "metadata": {},
   "outputs": [
    {
     "data": {
      "text/plain": [
       "<AxesSubplot:>"
      ]
     },
     "execution_count": 50,
     "metadata": {},
     "output_type": "execute_result"
    },
    {
     "data": {
      "image/png": "[encoded data removed]",
      "text/plain": [
       "<Figure size 640x480 with 2 Axes>"
      ]
     },
     "metadata": {},
     "output_type": "display_data"
    }
   ],
   "source": [
    "sns.heatmap(df.corr(), cmap=\"Blues\", annot=False)"
   ]
  }
 ],
 "metadata": {
  "kernelspec": {
   "display_name": "Python 3 (ipykernel)",
   "language": "python",
   "name": "python3"
  },
  "language_info": {
   "codemirror_mode": {
    "name": "ipython",
    "version": 3
   },
   "file_extension": ".py",
   "mimetype": "text/x-python",
   "name": "python",
   "nbconvert_exporter": "python",
   "pygments_lexer": "ipython3",
   "version": "3.9.13"
  }
 },
 "nbformat": 4,
 "nbformat_minor": 5
}
